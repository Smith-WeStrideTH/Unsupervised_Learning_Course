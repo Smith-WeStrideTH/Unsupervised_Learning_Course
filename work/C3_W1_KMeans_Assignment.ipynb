{
 "cells": [
  {
   "cell_type": "markdown",
   "metadata": {},
   "source": [
    "# K-means Clustering  (การคลัสเตอร์ K-means)\n",
    "\n",
    "ในแบบฝึกหัดนี้ คุณจะได้เรียนรู้การใช้งานอัลกอริทึม K-means และนำไปใช้ในการบีบอัดภาพ\n",
    "\n",
    "* คุณจะเริ่มต้นด้วยชุดข้อมูลตัวอย่างที่จะช่วยให้คุณเข้าใจวิธีการทำงานของอัลกอริทึม K-means\n",
    "* หลังจากนั้น คุณจะใช้อัลกอริทึม K-means เพื่อบีบอัดภาพ โดยลดจำนวนสีที่เกิดขึ้นในภาพให้เหลือเพียงสีที่พบบ่อยที่สุดในภาพนั้น\n",
    "\n",
    "\n",
    "\n",
    "\n",
    "# โครงร่าง\n",
    "- [ 1 - การใช้งาน K-means](#1)\n",
    "  - [ 1.1 การค้นหาเซนทรอยด์ที่ใกล้ที่สุด](#1.1)\n",
    "    - [ แบบฝึกหัด 1](#ex01)\n",
    "  - [ 1.2 การคำนวณค่าเฉลี่ยของเซนทรอยด์](#1.2)\n",
    "    - [ แบบฝึกหัด 2](#ex02)\n",
    "- [ 2 - K-means บนชุดข้อมูลตัวอย่าง ](#2)\n",
    "- [ 3 - การเริ่มต้นแบบสุ่ม](#3)\n",
    "- [ 4 - การบีบอัดภาพด้วย K-means](#4)\n",
    "  - [ 4.1 ชุดข้อมูล](#4.1)\n",
    "  - [ 4.2 K-Means บนพิกเซลของภาพ](#4.2)\n",
    "  - [ 4.3 บีบอัดภาพ](#4.3)\n"
   ]
  },
  {
   "cell_type": "markdown",
   "metadata": {},
   "source": [
    "**หมายเหตุ:** เพื่อป้องกันข้อผิดพลาดจากตัวตรวจการบ้าน คุณไม่ได้รับอนุญาตให้แก้ไขหรือลบคเซลล์ที่ไม่ได้ให้คะแนน โปรดหลีกเลี่ยงการเพิ่มเซลล์ใหม่ด้วย \n",
    "\n",
    "**เมื่อคุณผ่านการมอบหมายงานนี้แล้ว** และต้องการทดลองกับโค้ดที่ไม่ได้ให้คะแนน คุณสามารถทำตามคำแนะนำที่ด้านล่างของโน้ตบุ๊กนี้"
   ]
  },
  {
   "cell_type": "markdown",
   "metadata": {},
   "source": [
    "ก่อนอื่น ให้รันเซลล์ด้านล่างเพื่อติดตั้งแพ็คเกจที่จำเป็นสำหรับการบ้านนี้:\n",
    "- [numpy](https://numpy.org/) เป็นแพ็คเกจพื้นฐานสำหรับการคำนวณทางวิทยาศาสตร์ด้วย Python\n",
    "- [matplotlib](http://matplotlib.org) เป็นไลบรารีที่นิยมใช้ในการวาดกราฟใน Python\n",
    "- `utils.py` ประกอบด้วยฟังก์ชันช่วยเหลือสำหรับการบ้านนี้ คุณไม่จำเป็นต้องแก้ไขโค้ดในไฟล์นี้"
   ]
  },
  {
   "cell_type": "code",
   "execution_count": null,
   "metadata": {},
   "outputs": [],
   "source": []
  },
  {
   "cell_type": "code",
   "execution_count": null,
   "metadata": {
    "deletable": false,
    "editable": false
   },
   "outputs": [],
   "source": [
    "import numpy as np\n",
    "import matplotlib.pyplot as plt\n",
    "from utils import *\n",
    "\n",
    "%matplotlib inline"
   ]
  },
  {
   "cell_type": "markdown",
   "metadata": {},
   "source": [
    "<a name=\"1\"></a>\n",
    "## 1 - อัลกอริทึม K-means\n",
    "\n",
    "อัลกอริทึม K-means เป็นวิธีการจัดกลุ่มข้อมูลที่คล้ายคลึงกันโดยอัตโนมัติ \n",
    "\n",
    "* โดยเฉพาะอย่างยิ่ง คุณจะได้รับชุดฝึก  $\\{x^{(1)}, ..., x^{(m)}\\}$,และคุณต้องการจัดกลุ่มข้อมูลเป็น \"กลุ่ม\" ที่เชื่อมโยงกันไม่กี่กลุ่ม\n",
    "\n",
    "\n",
    "* K-means เป็นขั้นตอนแบบวนซ้ำที่\n",
    "     * เริ่มต้นด้วยการเดาเซนทรอยด์เริ่มต้น และจากนั้น\n",
    "     * ปรับปรุงการเดานี้โดย \n",
    "         * กำหนดตัวอย่างให้กับเซนทรอยด์ที่ใกล้ที่สุดซ้ำๆ และจากนั้น\n",
    "         * คำนวณเซนทรอยด์ใหม่โดยยึดตามการกำหนด\n",
    "\n",
    "* ในรหัสเทียม อัลกอริทึม K-means มีดังนี้:\n",
    "\n",
    "    ``` python\n",
    "    # Initialize centroids\n",
    "    # K is the number of clusters\n",
    "    centroids = kMeans_init_centroids(X, K)\n",
    "    \n",
    "    for iter in range(iterations):\n",
    "        # Cluster assignment step: \n",
    "        # Assign each data point to the closest centroid. \n",
    "        # idx[i] corresponds to the index of the centroid \n",
    "        # assigned to example i\n",
    "        idx = find_closest_centroids(X, centroids)\n",
    "\n",
    "        # Move centroid step: \n",
    "        # Compute means based on centroid assignments\n",
    "        centroids = compute_centroids(X, idx, K)\n",
    "    ```\n",
    "\n",
    "\n",
    "* ลูปภายในของอัลกอริทึมจะทำสองขั้นตอนซ้ำๆ:\n",
    "    1. กำหนดแต่ละตัวอย่างการฝึก  $x^{(i)}$  ให้กับเซนทรอยด์ที่ใกล้ที่สุด และ\n",
    "    2. คำนวณค่าเฉลี่ยของแต่ละเซนทรอยด์โดยใช้จุดที่ถูกกำหนดให้\n",
    "    \n",
    "* อัลกอริทึม  $K$-จะลู่เข้าสู่ชุดค่าเฉลี่ยสุดท้ายของเซนทรอยด์เสมอ\n",
    "\n",
    "* อย่างไรก็ตาม โซลูชันที่ลู่เข้าอาจไม่เหมาะสมเสมอไป และขึ้นอยู่กับการตั้งค่าเริ่มต้นของเซนทรอยด์\n",
    "    * ดังนั้น ในทางปฏิบัติ อัลกอริทึม K-means มักจะถูกเรียกใช้หลายครั้งด้วยการเริ่มต้นแบบสุ่มที่แตกต่างกัน\n",
    "    * วิธีหนึ่งในการเลือกจากโซลูชันต่างๆ เหล่านี้จากการเริ่มต้นแบบสุ่มที่แตกต่างกันคือการเลือกโซลูชันที่มีค่าฟังก์ชันต้นทุนต่ำสุด (distortion)\n",
    "\n",
    "\n",
    "คุณจะนำไปใช้สองเฟสของอัลกอริทึม K-means แยกกัน\n",
    "ในส่วนถัดไป   \n",
    "* คุณจะเริ่มต้นด้วยการเติมเต็ม `find_closest_centroid` และจากนั้นดำเนินการเติมเต็ม  `compute_centroids`."
   ]
  },
  {
   "cell_type": "markdown",
   "metadata": {},
   "source": [
    "<a name=\"1.1\"></a>\n",
    "### 1.1 การค้นหาเซนทรอยด์ที่ใกล้ที่สุด\n",
    "\n",
    "ในเฟส \"การกำหนดกลุ่ม\" ของอัลกอริทึม K-means อัลกอริทึมจะกำหนดทุกตัวอย่างการฝึก  $x^{(i)}$ ให้กับเซนทรอยด์ที่ใกล้ที่สุด โดยพิจารณาจากตำแหน่งปัจจุบันของเซนทรอยด์\n",
    "\n",
    "<a name=\"ex01\"></a>\n",
    "### แบบฝึกหัด 1\n",
    "\n",
    "งานของคุณคือการเติมโค้ดใน `find_closest_centroids`. \n",
    "* ฟังก์ชันนี้รับเมทริกซ์ข้อมูล `X` และตำแหน่งของเซนทรอยด์ทั้งหมดภายใน `centroids` \n",
    "* ควรส่งออกอาร์เรย์หนึ่งมิติ `idx` (ซึ่งมีจำนวนองค์ประกอบเท่ากับ `X`) t ที่เก็บดัชนีของเซนทรอยด์ที่ใกล้ที่สุด (ค่าใน $\\{0,...,K-1\\}$ โดยที่ $K$ คือจำนวนเซนทรอยด์ทั้งหมด) สำหรับทุกตัวอย่างการฝึก *(หมายเหตุ: ช่วงดัชนี 0 ถึง K-1 แตกต่างจากที่แสดงในบทเรียนเล็กน้อย (เช่น 1 ถึง K) เนื่องจากดัชนีรายการ Python เริ่มต้นที่ 0 แทนที่จะเป็น 1)*\n",
    "\n",
    "* โดยเฉพาะอย่างยิ่ง สำหรับทุกตัวอย่าง $x^{(i)}$  เราตั้งค่า\n",
    "$$c^{(i)} := j \\quad \\mathrm{that \\; minimizes} \\quad ||x^{(i)} - \\mu_j||^2,$$\n",
    "โดยที่\n",
    " * $c^{(i)}$ คือดัชนีของเซนทรอยด์ที่ใกล้ที่สุดกับ $x^{(i)}$  (ตรงกับ `idx[i]` ในโค้ดเริ่มต้น) และ\n",
    " * $\\mu_j$ คือตำแหน่ง (ค่า) ของเซนทรอยด์ที่ $j$’ (เก็บไว้ใน  `centroids` ในโค้ดเริ่มต้น)\n",
    " * $||x^{(i)} - \\mu_j||$ คือ นอร์ม L2 (L2-norm)\n",
    " \n",
    "หากคุณติดขัด คุณสามารถตรวจสอบคำแนะนำที่นำเสนอหลังเซลล์ด้านล่างเพื่อช่วยคุณในการใช้งาน\n"
   ]
  },
  {
   "cell_type": "code",
   "execution_count": null,
   "metadata": {
    "deletable": false
   },
   "outputs": [],
   "source": [
    "# UNQ_C1\n",
    "# GRADED FUNCTION: find_closest_centroids\n",
    "\n",
    "def find_closest_centroids(X, centroids):\n",
    "    \"\"\"\n",
    "    Computes the centroid memberships for every example\n",
    "    \n",
    "    Args:\n",
    "        X (ndarray): (m, n) Input values      \n",
    "        centroids (ndarray): (K, n) centroids\n",
    "    \n",
    "    Returns:\n",
    "        idx (array_like): (m,) closest centroids\n",
    "    \n",
    "    \"\"\"\n",
    "\n",
    "    # Set K\n",
    "    K = centroids.shape[0]\n",
    "\n",
    "    # You need to return the following variables correctly\n",
    "    idx = np.zeros(X.shape[0], dtype=int)\n",
    "\n",
    "    ### START CODE HERE ###\n",
    "    \n",
    "        \n",
    "        \n",
    "            \n",
    "            \n",
    "        \n",
    "     ### END CODE HERE ###\n",
    "    \n",
    "    return idx"
   ]
  },
  {
   "cell_type": "markdown",
   "metadata": {},
   "source": [
    "<details>\n",
    "  <summary><font size=\"3\" color=\"darkgreen\"><b>Click for hints</b></font></summary>\n",
    "    \n",
    "    \n",
    "* ต่อไปนี้เป็นวิธีการโครงสร้างการนำไปใช้โดยรวมสำหรับฟังก์ชันนี้\n",
    "\n",
    "```python \n",
    "def find_closest_centroids(X, centroids):\n",
    "\n",
    "    # Set K\n",
    "    K = centroids.shape[0]\n",
    "\n",
    "    # You need to return the following variables correctly\n",
    "    idx = np.zeros(X.shape[0], dtype=int)\n",
    "\n",
    "    ### START CODE HERE ###\n",
    "    for i in range(X.shape[0]):\n",
    "        # Array to hold distance between X[i] and each centroids[j]\n",
    "        distance = [] \n",
    "        for j in range(centroids.shape[0]):\n",
    "            norm_ij = # Your code to calculate the norm between (X[i] - centroids[j])\n",
    "            distance.append(norm_ij)\n",
    "\n",
    "        idx[i] = # Your code here to calculate index of minimum value in distance\n",
    "    ### END CODE HERE ###\n",
    "    return idx\n",
    "```\n",
    "\n",
    "* หากคุณยังติดขัด คุณสามารถตรวจสอบคำใบ้ด้านล่างเพื่อหาวิธีคำนวณ `norm_ij` และ `idx[i]`.\n",
    "    \n",
    "    <details>\n",
    "          <summary><font size=\"2\" color=\"darkblue\"><b>คำแนะนำในการคำนวณ norm_ij</b></font></summary>\n",
    "           &emsp; &emsp; คุณสามารถใช้ <a href=\"https://numpy.org/doc/stable/reference/generated/numpy.linalg.norm.html\">np.linalg.norm</a> ในการคำนวณ norm \n",
    "          <details>\n",
    "              <summary><font size=\"2\" color=\"blue\"><b>&emsp; &emsp; คำแนะนำเพิ่มเติมในการคำนวณ norm_ij</b></font></summary>\n",
    "               &emsp; &emsp; คุณสามารถคำนวณ norm_ij as <code>norm_ij = np.linalg.norm(X[i] - centroids[j]) </code>\n",
    "           </details>\n",
    "    </details>\n",
    "\n",
    "    <details>\n",
    "          <summary><font size=\"2\" color=\"darkblue\"><b>คำแนะนำในการคำนวณ idx[i]</b></font></summary>\n",
    "          &emsp; &emsp; คุณสามารถใช้ <a href=\"https://numpy.org/doc/stable/reference/generated/numpy.argmin.html\">np.argmin</a> ในการหาค่า indexที่ต่ำที่สุด \n",
    "          <details>\n",
    "              <summary><font size=\"2\" color=\"blue\"><b>&emsp; &emsp; คำแนะนำเพิ่มเติมในการคำนวณ idx[i]</b></font></summary>\n",
    "              &emsp; &emsp; You can compute idx[i] as <code>idx[i] = np.argmin(distance)</code>\n",
    "          </details>\n",
    "    </details>\n",
    "        \n",
    "    </details>\n",
    "\n",
    "</details>\n",
    "\n",
    "    \n"
   ]
  },
  {
   "cell_type": "markdown",
   "metadata": {},
   "source": [
    "ตอนนี้มาตรวจสอบการใช้งานของคุณโดยใช้ชุดข้อมูลตัวอย่างกัน"
   ]
  },
  {
   "cell_type": "code",
   "execution_count": null,
   "metadata": {
    "deletable": false,
    "editable": false
   },
   "outputs": [],
   "source": [
    "# Load an example dataset that we will be using\n",
    "X = load_data()"
   ]
  },
  {
   "cell_type": "markdown",
   "metadata": {},
   "source": [
    "โค้ดด้านล่างจะพิมพ์ 5 องค์ประกอบแรกในตัวแปร `X` และมิติของตัวแปร"
   ]
  },
  {
   "cell_type": "code",
   "execution_count": null,
   "metadata": {
    "deletable": false,
    "editable": false
   },
   "outputs": [],
   "source": [
    "print(\"First five elements of X are:\\n\", X[:5]) \n",
    "print('The shape of X is:', X.shape)"
   ]
  },
  {
   "cell_type": "code",
   "execution_count": null,
   "metadata": {
    "deletable": false,
    "editable": false
   },
   "outputs": [],
   "source": [
    "# Select an initial set of centroids (3 Centroids)\n",
    "initial_centroids = np.array([[3,3], [6,2], [8,5]])\n",
    "\n",
    "# Find closest centroids using initial_centroids\n",
    "idx = find_closest_centroids(X, initial_centroids)\n",
    "\n",
    "# Print closest centroids for the first three elements\n",
    "print(\"First three elements in idx are:\", idx[:3])\n",
    "\n",
    "# UNIT TEST\n",
    "from public_tests import *\n",
    "\n",
    "find_closest_centroids_test(find_closest_centroids)"
   ]
  },
  {
   "cell_type": "markdown",
   "metadata": {},
   "source": [
    "**ผลลัพธ์ที่คาดหวัง**:\n",
    "<table>\n",
    "  <tr>\n",
    "    <td> <b>สามองค์ประกอบแรกใน idx คือ\n",
    "<b></td>\n",
    "    <td> [0 2 1] </td> \n",
    "  </tr>\n",
    "</table>"
   ]
  },
  {
   "cell_type": "markdown",
   "metadata": {},
   "source": [
    "<a name=\"1.2\"></a>\n",
    "### 1.2 การคำนวณค่าเฉลี่ยของเซนทรอยด์\n",
    "\n",
    "เมื่อกำหนดการกำหนดจุดแต่ละจุดให้กับเซนทรอยด์แล้ว ขั้นตอนที่สองของอัลกอริทึมจะคำนวณค่าเฉลี่ยของจุดที่ถูกกำหนดให้กับเซนทรอยด์แต่ละตัวใหม่\n",
    "\n",
    "\n",
    "<a name=\"ex02\"></a>\n",
    "### แบบฝึกหัดที่ 2\n",
    "\n",
    "โปรดเติมโค้ด  `compute_centroids` ด้านล่างเพื่อคำนวณค่าใหม่สำหรับเซนทรอยด์แต่ละตัว\n",
    "\n",
    "* โดยเฉพาะอย่างยิ่ง สำหรับเซนทรอยด์  $\\mu_k$ แต่ละตัว เราตั้งค่า\n",
    "$$\\mu_k = \\frac{1}{|C_k|} \\sum_{i \\in C_k} x^{(i)}$$ \n",
    "\n",
    "    โดยที่ \n",
    "    * $C_k$ คือเซตของตัวอย่างที่ถูกกำหนดให้กับเซนทรอยด์ $k$\n",
    "    * $|C_k|$ คือจำนวนตัวอย่างในเซต $C_k$\n",
    "\n",
    "\n",
    "* โดยเฉพาะอย่างยิ่ง ถ้าตัวอย่างสองตัว เช่น  $x^{(3)}$ และ  $x^{(5)}$ ถูกกำหนดให้กับเซนทรอยด์  $k=2$,\n",
    "คุณควรอัปเดต $\\mu_2 = \\frac{1}{2}(x^{(3)}+x^{(5)})$.\n",
    "\n",
    "หากคุณติดขัด คุณสามารถตรวจสอบคำใบ้ที่นำเสนอหลังเซลล์ด้านล่างเพื่อช่วยคุณในการใช้งาน"
   ]
  },
  {
   "cell_type": "code",
   "execution_count": null,
   "metadata": {
    "deletable": false
   },
   "outputs": [],
   "source": [
    "# UNQ_C2\n",
    "# GRADED FUNCTION: compute_centroids\n",
    "\n",
    "def compute_centroids(X, idx, K):\n",
    "    \"\"\"\n",
    "    Returns the new centroids by computing the means of the \n",
    "    data points assigned to each centroid.\n",
    "    \n",
    "    Args:\n",
    "        X (ndarray):   (m, n) Data points\n",
    "        idx (ndarray): (m,) Array containing index of closest centroid for each \n",
    "                       example in X. Concretely, idx[i] contains the index of \n",
    "                       the centroid closest to example i\n",
    "        K (int):       number of centroids\n",
    "    \n",
    "    Returns:\n",
    "        centroids (ndarray): (K, n) New centroids computed\n",
    "    \"\"\"\n",
    "    \n",
    "    # Useful variables\n",
    "    m, n = X.shape\n",
    "    \n",
    "    # You need to return the following variables correctly\n",
    "    centroids = np.zeros((K, n))\n",
    "    \n",
    "    ### START CODE HERE ###\n",
    "    \n",
    "        \n",
    "        \n",
    "    ### END CODE HERE ## \n",
    "    \n",
    "    return centroids"
   ]
  },
  {
   "cell_type": "markdown",
   "metadata": {},
   "source": [
    "<details>\n",
    "  <summary><font size=\"3\" color=\"darkgreen\"><b>Click for hints</b></font></summary>\n",
    "    \n",
    "    \n",
    "* นี่คือวิธีโครงสร้างการใช้งานโดยรวมสำหรับฟังก์ชันนี้\n",
    "\n",
    "    ```python \n",
    "    def compute_centroids(X, idx, K):\n",
    "        # Useful variables\n",
    "        m, n = X.shape\n",
    "    \n",
    "        # You need to return the following variables correctly\n",
    "        centroids = np.zeros((K, n))\n",
    "    \n",
    "        ### START CODE HERE ###\n",
    "        for k in range(K):   \n",
    "            points = # Your code here to get a list of all data points in X assigned to centroid k  \n",
    "            centroids[k] = # Your code here to compute the mean of the points assigned\n",
    "    ### END CODE HERE ## \n",
    "    \n",
    "    return centroids\n",
    "    ```\n",
    "  \n",
    "    หากคุณยังติดขัด คุณสามารถตรวจสอบคำใบ้ด้านล่างเพื่อหาวิธีคำนวณ `points` และ  `centroids[k]`.\n",
    "    \n",
    "    <details>\n",
    "          <summary><font size=\"2\" color=\"darkblue\"><b>คำแนะนำในการคำนวณ points</b></font></summary>\n",
    "           &emsp; &emsp; สมมติว่าเราต้องการค้นหาค่าทั้งหมดใน X ที่ถูกกำหนดให้กับคลัสเตอร์ <code>k=0</code>. นั่นคือ ค่าที่ตรงกันใน idx สำหรับตัวอย่างเหล่านี้คือ 0 ใน Python เราสามารถทำได้ดังนี้ <code>X[idx == 0]</code>. เช่นเดียวกัน จุดที่กำหนดให้กับเซนทรอยด์ <code>k=1</code> are <code>X[idx == 1]</code>\n",
    "          <details>\n",
    "              <summary><font size=\"2\" color=\"blue\"><b>&emsp; &emsp; คำแนะนำเพิ่มเติมในการคำนวณ points</b></font></summary>\n",
    "               &emsp; &emsp; คุณสามารถคำนวณ points คือ <code>points = X[idx == k] </code>\n",
    "           </details>\n",
    "    </details>\n",
    "\n",
    "     <details>\n",
    "          <summary><font size=\"2\" color=\"darkblue\"><b>คำแนะนำในการคำนวณ centroids[k]</b></font></summary>\n",
    "          &emsp; &emsp; คุณสามารถใช้ <a href=\"https://numpy.org/doc/stable/reference/generated/numpy.mean.html\">np.mean</a> ในการหาค่า mean. โปรดตรวจสอบและตั้งค่าพารามิเตอร์ <code>axis=0</code> \n",
    "          <details>\n",
    "              <summary><font size=\"2\" color=\"blue\"><b>&emsp; &emsp; คำแนะนำเพิ่มเติมในการคำนวณ centroids[k]</b></font></summary>\n",
    "              &emsp; &emsp; คุณสามารถคำนวณ centroids[k] คือ <code>centroids[k] = np.mean(points, axis = 0)</code>\n",
    "          </details>\n",
    "    </details>\n",
    "        \n",
    "    </details>\n",
    "\n",
    "</details>\n",
    "\n",
    "    \n"
   ]
  },
  {
   "cell_type": "markdown",
   "metadata": {},
   "source": [
    "ตอนนี้ตรวจสอบการใช้งานของคุณโดยการรันเซลด้านล่าง"
   ]
  },
  {
   "cell_type": "code",
   "execution_count": null,
   "metadata": {
    "deletable": false,
    "editable": false
   },
   "outputs": [],
   "source": [
    "K = 3\n",
    "centroids = compute_centroids(X, idx, K)\n",
    "\n",
    "print(\"The centroids are:\", centroids)\n",
    "\n",
    "# UNIT TEST\n",
    "compute_centroids_test(compute_centroids)"
   ]
  },
  {
   "cell_type": "markdown",
   "metadata": {},
   "source": [
    "**ผลลัพธ์ที่คาดหวัง**:\n",
    "\n",
    "2.42830111 3.15792418\n",
    "\n",
    "5.81350331 2.63365645\n",
    "\n",
    "7.11938687 3.6166844 "
   ]
  },
  {
   "cell_type": "markdown",
   "metadata": {},
   "source": [
    "<a name=\"2\"></a>\n",
    "## 2 - K-means บนชุดข้อมูลตัวอย่าง \n",
    "\n",
    "หลังจากที่คุณเสร็จสิ้นฟังก์ชันทั้งสอง (`find_closest_centroids`\n",
    "และ `compute_centroids`) ขั้นตอนต่อไปคือการรันอัลกอริทึม K-means บนชุดข้อมูล 2D ตัวอย่างเพื่อช่วยให้คุณเข้าใจวิธีการทำงานของ K-means\n",
    "* เราขอแนะนำให้คุณลองดูฟังก์ชัน  (`run_kMeans`) ด้านล่างเพื่อทำความเข้าใจวิธีการทำงาน \n",
    "* สังเกตว่าโค้ดเรียกใช้ฟังก์ชันทั้งสองที่คุณได้นำไปใช้ในลูป\n",
    "\n",
    "เมื่อคุณรันโค้ดด้านล่าง มันจะสร้างการแสดงภาพที่แสดงขั้นตอนของอัลกอริทึมในแต่ละรอบ\n",
    "* ในที่สุด รูปของคุณควรจะเหมือนกับรูปที่แสดงในรูปที่ 1\n",
    "* เซนทรอยด์สุดท้ายคือเครื่องหมาย X สีดำตรงกลางของกลุ่มสี\n",
    "* คุณสามารถดูวิธีที่เซนทรอยด์เหล่านี้ไปถึงตำแหน่งสุดท้ายได้โดยดูที่เครื่องหมาย X อื่นๆ ที่เชื่อมต่อกับมัน\n",
    "\n",
    "<img src=\"images/figure 1.png\" width=\"500\" height=\"500\">\n",
    "\n",
    "\n",
    "**หมายเหตุ**: คุณไม่จำเป็นต้องนำอะไรไปใช้ในส่วนนี้ เพียงแค่รันโค้ดด้านล่าง"
   ]
  },
  {
   "cell_type": "code",
   "execution_count": null,
   "metadata": {
    "deletable": false,
    "editable": false
   },
   "outputs": [],
   "source": [
    "# You do not need to implement anything for this part\n",
    "\n",
    "def run_kMeans(X, initial_centroids, max_iters=10, plot_progress=False):\n",
    "    \"\"\"\n",
    "    Runs the K-Means algorithm on data matrix X, where each row of X\n",
    "    is a single example\n",
    "    \"\"\"\n",
    "    \n",
    "    # Initialize values\n",
    "    m, n = X.shape\n",
    "    K = initial_centroids.shape[0]\n",
    "    centroids = initial_centroids\n",
    "    previous_centroids = centroids    \n",
    "    idx = np.zeros(m)\n",
    "    plt.figure(figsize=(8, 6))\n",
    "\n",
    "    # Run K-Means\n",
    "    for i in range(max_iters):\n",
    "        \n",
    "        #Output progress\n",
    "        print(\"K-Means iteration %d/%d\" % (i, max_iters-1))\n",
    "        \n",
    "        # For each example in X, assign it to the closest centroid\n",
    "        idx = find_closest_centroids(X, centroids)\n",
    "        \n",
    "        # Optionally plot progress\n",
    "        if plot_progress:\n",
    "            plot_progress_kMeans(X, centroids, previous_centroids, idx, K, i)\n",
    "            previous_centroids = centroids\n",
    "            \n",
    "        # Given the memberships, compute new centroids\n",
    "        centroids = compute_centroids(X, idx, K)\n",
    "    plt.show() \n",
    "    return centroids, idx"
   ]
  },
  {
   "cell_type": "code",
   "execution_count": null,
   "metadata": {
    "deletable": false,
    "editable": false
   },
   "outputs": [],
   "source": [
    "# Load an example dataset\n",
    "X = load_data()\n",
    "\n",
    "# Set initial centroids\n",
    "initial_centroids = np.array([[3,3],[6,2],[8,5]])\n",
    "\n",
    "# Number of iterations\n",
    "max_iters = 10\n",
    "\n",
    "# Run K-Means\n",
    "centroids, idx = run_kMeans(X, initial_centroids, max_iters, plot_progress=True)"
   ]
  },
  {
   "cell_type": "markdown",
   "metadata": {},
   "source": [
    "<a name=\"3\"></a>\n",
    "## 3 - การเริ่มต้นแบบสุ่ม\n",
    "\n",
    "การกำหนดเซนทรอยด์เริ่มต้นสำหรับชุดข้อมูลตัวอย่างได้รับการออกแบบเพื่อให้คุณเห็นรูปเดียวกับในรูปที่ 1 ในทางปฏิบัติ กลยุทธ์ที่ดีในการเริ่มต้นเซนทรอยด์คือการเลือกตัวอย่างแบบสุ่มจากชุดฝึก\n",
    "\n",
    "ในส่วนนี้ของแบบฝึกหัด คุณควรทำความเข้าใจวิธีการใช้งานฟังก์ชัน `kMeans_init_centroids` \n",
    "* โค้ดจะสุ่มสับเปลี่ยนดัชนีของตัวอย่าง (โดยใช้`np.random.permutation()`). \n",
    "* จากนั้น เลือกตัวอย่างแรก $K$ ตัวอย่างตามการสับเปลี่ยนแบบสุ่มของดัชนี\n",
    "* ซึ่งช่วยให้ตัวอย่างถูกเลือกแบบสุ่มโดยไม่เสี่ยงต่อการเลือกตัวอย่างเดียวกันสองครั้ง\n",
    "\n",
    "**หมายเหตุ**: คุณไม่จำเป็นต้องใช้งานอะไรสำหรับส่วนนี้ของแบบฝึกหัด"
   ]
  },
  {
   "cell_type": "code",
   "execution_count": null,
   "metadata": {
    "deletable": false,
    "editable": false
   },
   "outputs": [],
   "source": [
    "# You do not need to modify this part\n",
    "\n",
    "def kMeans_init_centroids(X, K):\n",
    "    \"\"\"\n",
    "    This function initializes K centroids that are to be \n",
    "    used in K-Means on the dataset X\n",
    "    \n",
    "    Args:\n",
    "        X (ndarray): Data points \n",
    "        K (int):     number of centroids/clusters\n",
    "    \n",
    "    Returns:\n",
    "        centroids (ndarray): Initialized centroids\n",
    "    \"\"\"\n",
    "    \n",
    "    # Randomly reorder the indices of examples\n",
    "    randidx = np.random.permutation(X.shape[0])\n",
    "    \n",
    "    # Take the first K examples as centroids\n",
    "    centroids = X[randidx[:K]]\n",
    "    \n",
    "    return centroids"
   ]
  },
  {
   "cell_type": "markdown",
   "metadata": {},
   "source": [
    "คุณสามารถรัน K-Means อีกครั้ง แต่คราวนี้ใช้เซนทรอยด์เริ่มต้นแบบสุ่ม ลองรันเซลล์ด้านล่างหลายๆ ครั้งและสังเกตว่าคลัสเตอร์ที่แตกต่างกันถูกสร้างขึ้นอย่างไร ขึ้นอยู่กับจุดเริ่มต้นที่เลือก"
   ]
  },
  {
   "cell_type": "code",
   "execution_count": null,
   "metadata": {
    "deletable": false,
    "editable": false
   },
   "outputs": [],
   "source": [
    "# Run this cell repeatedly to see different outcomes.\n",
    "\n",
    "# Set number of centroids and max number of iterations\n",
    "K = 3\n",
    "max_iters = 10\n",
    "\n",
    "# Set initial centroids by picking random examples from the dataset\n",
    "initial_centroids = kMeans_init_centroids(X, K)\n",
    "\n",
    "# Run K-Means\n",
    "centroids, idx = run_kMeans(X, initial_centroids, max_iters, plot_progress=True)"
   ]
  },
  {
   "cell_type": "markdown",
   "metadata": {},
   "source": [
    "<a name=\"4\"></a>\n",
    "## 4 - การบีบอัดภาพด้วย K-means\n",
    "\n",
    "ในแบบฝึกหัดนี้ คุณจะนำ K-means มาใช้ในการบีบอัดภาพ\n",
    "\n",
    "* ในการแสดงสี 24 บิตแบบตรงไปตรงมาของภาพ$^{2}$,  แต่ละพิกเซลจะถูกแสดงเป็นจำนวนเต็มไร้เครื่องหมาย 8 บิตสามตัว (ตั้งแต่ 0 ถึง 255) ที่ระบุค่าความเข้มของสีแดง สีเขียว และสีน้ำเงิน การเข้ารหัสนี้มักเรียกว่าการเข้ารหัส RGB\n",
    "* ภาพของเรามีสีหลายพันสี และในส่วนนี้ของแบบฝึกหัด คุณจะลดจำนวนสีลงเหลือ 16 สี\n",
    "* โดยการลดจำนวนสีลง คุณสามารถแสดงภาพ (บีบอัด) ได้อย่างมีประสิทธิภาพ\n",
    "* โดยเฉพาะอย่างยิ่ง คุณเพียงแค่ต้องเก็บค่า RGB ของ 16 สีที่เลือก และสำหรับแต่ละพิกเซลในภาพ คุณต้องเก็บเฉพาะดัชนีของสีที่ตำแหน่งนั้น (ซึ่งต้องใช้เพียง 4 บิตเพื่อแสดง 16 ความเป็นไปได้)\n",
    "\n",
    "ในส่วนนี้ คุณจะใช้อัลกอริทึม K-means เพื่อเลือก 16 สีที่จะใช้แทนภาพที่ถูกบีบอัด\n",
    "\n",
    "* โดยเฉพาะอย่างยิ่ง คุณจะถือว่าทุกพิกเซลในภาพต้นฉบับเป็นตัวอย่างข้อมูลและใช้อัลกอริทึม K-means เพื่อค้นหา 16 สีที่จัดกลุ่ม (คลัสเตอร์) พิกเซลในพื้นที่ RGB 3 มิติได้ดีที่สุด\n",
    "* เมื่อคุณคำนวณเซนทรอยด์ของคลัสเตอร์บนภาพแล้ว คุณจะใช้ 16 สีเพื่อแทนที่พิกเซลในภาพต้นฉบับ\n",
    "\n",
    "<img src=\"images/figure 2.png\" width=\"500\" height=\"500\">\n",
    "\n",
    "$^{2}$<sub>ภาพที่ใช้ในแบบฝึกหัดนี้เป็นของ Frank Wouters และใช้โดยได้รับอนุญาต.</sub>\n",
    "\n",
    "<a name=\"4.1\"></a>\n",
    "### 4.1 ชุดข้อมูล\n",
    "\n",
    "**โหลดภาพ**\n",
    "\n",
    "อันดับแรก คุณจะใช้ `matplotlib` เพื่ออ่านภาพต้นฉบับ ดังแสดงด้านล่าง"
   ]
  },
  {
   "cell_type": "code",
   "execution_count": null,
   "metadata": {
    "deletable": false,
    "editable": false
   },
   "outputs": [],
   "source": [
    "# Load an image of a bird\n",
    "original_img = plt.imread('bird_small.png')"
   ]
  },
  {
   "cell_type": "markdown",
   "metadata": {},
   "source": [
    "**Visualize image**\n",
    "\n",
    "คุณสามารถมองเห็นภาพที่เพิ่งโหลดมาโดยใช้โค้ดด้านล่าง"
   ]
  },
  {
   "cell_type": "code",
   "execution_count": null,
   "metadata": {
    "deletable": false,
    "editable": false
   },
   "outputs": [],
   "source": [
    "# Visualizing the image\n",
    "plt.imshow(original_img)"
   ]
  },
  {
   "cell_type": "markdown",
   "metadata": {},
   "source": [
    "**ตรวจสอบมิติของตัวแปร**\n",
    "\n",
    "เช่นเคย คุณจะพิมพ์รูปร่างของตัวแปรของคุณเพื่อทำความคุ้นเคยกับข้อมูลมากขึ้น"
   ]
  },
  {
   "cell_type": "code",
   "execution_count": null,
   "metadata": {
    "deletable": false,
    "editable": false
   },
   "outputs": [],
   "source": [
    "print(\"Shape of original_img is:\", original_img.shape)"
   ]
  },
  {
   "cell_type": "markdown",
   "metadata": {},
   "source": [
    "ดังที่คุณเห็น เมทริกซ์สามมิติ  `original_img` นี้ถูกสร้างขึ้น โดย \n",
    "* ดัชนีสองตัวแรกระบุตำแหน่งพิกเซล\n",
    "* ดัชนีที่สามแทนสีแดง เขียว หรือน้ำเงิน \n",
    "\n",
    "ตัวอย่างเช่น `original_img[50, 33, 2]` ให้ค่าความเข้มสีน้ำเงินของพิกเซลที่แถว 50 และคอลัมน์ 33\n",
    "\n",
    "#### การประมวลผลข้อมูล\n",
    "\n",
    "เพื่อเรียกใช้ `run_kMeans`, คุณต้องแปลงเมทริกซ์ `original_img`  ให้เป็นเมทริกซ์สองมิติก่อน\n",
    "\n",
    "* โค้ดด้านล่างปรับขนาดเมทริกซ์ `original_img` เพื่อสร้างเมทริกซ์สีพิกเซล $m \\times 3$ (โดยที่\n",
    "$m=16384 = 128\\times128$)\n",
    "\n",
    "*หมายเหตุ: Iหากคุณลองแบบฝึกหัดนี้ในภายหลังกับไฟล์ JPG คุณต้องหารค่าพิกเซลด้วย 255 ก่อนเพื่อให้ค่าอยู่ในช่วง 0 ถึง 1 ซึ่งไม่จำเป็นสำหรับไฟล์ PNG (เช่น `bird_small.png`) เนื่องจากโหลดอยู่ในช่วงที่ต้องการแล้ว (ตามที่กล่าวไว้ใน  [plt.imread() documentation](https://matplotlib.org/stable/api/_as_gen/matplotlib.pyplot.imread.html)).เราได้แสดงความคิดเห็นไว้ด้านล่างเพื่อให้คุณสามารถยกเลิกการแสดงความคิดเห็นในภายหลังหากคุณต้องการลองใช้ไฟล์อื่น* "
   ]
  },
  {
   "cell_type": "code",
   "execution_count": null,
   "metadata": {
    "deletable": false
   },
   "outputs": [],
   "source": [
    "# Divide by 255 so that all values are in the range 0 - 1 (not needed for PNG files)\n",
    "# original_img = original_img / 255\n",
    "\n",
    "# Reshape the image into an m x 3 matrix where m = number of pixels\n",
    "# (in this case m = 128 x 128 = 16384)\n",
    "# Each row will contain the Red, Green and Blue pixel values\n",
    "# This gives us our dataset matrix X_img that we will use K-Means on.\n",
    "\n",
    "X_img = np.reshape(original_img, (original_img.shape[0] * original_img.shape[1], 3))"
   ]
  },
  {
   "cell_type": "markdown",
   "metadata": {},
   "source": [
    "<a name=\"4.2\"></a>\n",
    "### K-Means บนพิกเซลของภาพ\n",
    "ตอนนี้ ให้รันเซลโค้ดด้านล่างเพื่อเรียกใช้ K-Means บนภาพที่ผ่านการประมวลผลแล้ว"
   ]
  },
  {
   "cell_type": "code",
   "execution_count": null,
   "metadata": {
    "deletable": false
   },
   "outputs": [],
   "source": [
    "# Run your K-Means algorithm on this data\n",
    "# You should try different values of K and max_iters here\n",
    "K = 16\n",
    "max_iters = 10\n",
    "\n",
    "# Using the function you have implemented above. \n",
    "initial_centroids = kMeans_init_centroids(X_img, K)\n",
    "\n",
    "# Run K-Means - this can take a couple of minutes depending on K and max_iters\n",
    "centroids, idx = run_kMeans(X_img, initial_centroids, max_iters)"
   ]
  },
  {
   "cell_type": "code",
   "execution_count": null,
   "metadata": {
    "deletable": false,
    "editable": false
   },
   "outputs": [],
   "source": [
    "print(\"Shape of idx:\", idx.shape)\n",
    "print(\"Closest centroid for the first five elements:\", idx[:5])"
   ]
  },
  {
   "cell_type": "markdown",
   "metadata": {},
   "source": [
    "โค้ดด้านล่างจะพล็อตสีทั้งหมดที่พบในภาพต้นฉบับ ดังที่ได้กล่าวไว้ก่อนหน้านี้ สีของแต่ละพิกเซลจะแสดงด้วยค่า RGB ดังนั้นพล็อตควรมี 3 แกน - R, G และ B คุณจะสังเกตเห็นจุดจำนวนมากด้านล่างแทนสีหลายพันสีในภาพต้นฉบับ เครื่องหมายสีแดงแสดงถึงเซนทรอยด์หลังจากรัน K-means เหล่านี้จะเป็น 16 สีที่จะใช้ในการบีบอัดภาพ"
   ]
  },
  {
   "cell_type": "code",
   "execution_count": null,
   "metadata": {
    "deletable": false,
    "editable": false
   },
   "outputs": [],
   "source": [
    "# Plot the colors of the image and mark the centroids\n",
    "plot_kMeans_RGB(X_img, centroids, idx, K)"
   ]
  },
  {
   "cell_type": "markdown",
   "metadata": {},
   "source": [
    "คุณสามารถมองเห็นสีที่แต่ละเครื่องหมายสีแดง (เช่น เซนทรอยด์) ด้านบนด้วยฟังก์ชันด้านล่าง คุณจะเห็นสีเหล่านี้เฉพาะเมื่อคุณสร้างภาพใหม่ในส่วนถัดไป หมายเลขใต้แต่ละสีคือดัชนีของมัน และนี่คือหมายเลขที่คุณเห็นในอาร์เรย์ `idx`"
   ]
  },
  {
   "cell_type": "code",
   "execution_count": null,
   "metadata": {
    "deletable": false,
    "editable": false
   },
   "outputs": [],
   "source": [
    "# Visualize the 16 colors selected\n",
    "show_centroid_colors(centroids)"
   ]
  },
  {
   "cell_type": "markdown",
   "metadata": {},
   "source": [
    "<a name=\"4.3\"></a>\n",
    "### 4.3 Compress the image\n"
   ]
  },
  {
   "cell_type": "markdown",
   "metadata": {},
   "source": [
    "หลังจากค้นหาสี $K=16$ สีสูงสุดเพื่อแทนภาพ คุณสามารถกำหนดตำแหน่งพิกเซลแต่ละตำแหน่งให้กับเซนทรอยด์ที่ใกล้ที่สุดโดยใช้ฟังก์ชัน\n",
    "`find_closest_centroids` \n",
    "* นี่ช่วยให้คุณสามารถแทนภาพต้นฉบับโดยใช้การกำหนดเซนทรอยด์ของแต่ละพิกเซล\n",
    " \n",
    "* โปรดทราบว่าคุณได้ลดจำนวนบิตที่จำเป็นในการอธิบายภาพลงอย่างมาก\n",
    "\n",
    "    * ภาพต้นฉบับต้องใช้ 24 บิต (เช่น 8 บิต x 3 ช่องสัญญาณในการเข้ารหัส RGB) สำหรับแต่ละตำแหน่งพิกเซล  $128\\times128$ ซึ่งส่งผลให้ขนาดทั้งหมด $128 \\times 128 \\times 24 = 393,216$ บิต. \n",
    "    * การแสดงผลใหม่ต้องใช้พื้นที่เก็บข้อมูลเพิ่มเติมในรูปแบบของพจนานุกรมสี 16 สี แต่ละสีต้องใช้ 24 บิต แต่ตัวภาพเองต้องการเพียง 4 บิตต่อตำแหน่งพิกเซล\n",
    "    * ดังนั้นจำนวนบิตสุดท้ายที่ใช้คือ  $16 \\times 24 + 128 \\times 128 \\times 4 = 65,920$ บิต ซึ่งสอดคล้องกับการบีบอัดภาพต้นฉบับประมาณ 6 เท่า"
   ]
  },
  {
   "cell_type": "code",
   "execution_count": null,
   "metadata": {
    "deletable": false,
    "editable": false
   },
   "outputs": [],
   "source": [
    "# Find the closest centroid of each pixel\n",
    "idx = find_closest_centroids(X_img, centroids)\n",
    "\n",
    "# Replace each pixel with the color of the closest centroid\n",
    "X_recovered = centroids[idx, :] \n",
    "\n",
    "# Reshape image into proper dimensions\n",
    "X_recovered = np.reshape(X_recovered, original_img.shape) "
   ]
  },
  {
   "cell_type": "markdown",
   "metadata": {},
   "source": [
    "สุดท้าย คุณสามารถดูผลกระทบของการบีบอัดโดยการสร้างภาพใหม่ขึ้นมา โดยอิงจากการกำหนดเซนทรอยด์\n",
    "* โดยเฉพาะ คุณได้แทนที่แต่ละพิกเซลด้วยค่าของเซนทรอยด์ที่กำหนดให้\n",
    "\n",
    "\n",
    "* รูปที่ 3 แสดงตัวอย่างการสร้างภาพใหม่ แม้ว่าภาพผลลัพธ์จะยังคงรักษาลักษณะส่วนใหญ่ของภาพต้นฉบับ แต่คุณจะเห็นอาร์ติแฟกต์การบีบอัดบางอย่างเนื่องจากใช้สีน้อยลง\n",
    "\n",
    "\n",
    "\n",
    "<img src=\"images/figure 3.png\" width=\"700\" height=\"700\">\n",
    "\n",
    "* รันโค้ดด้านล่างเพื่อดูวิธีการสร้างภาพใหม่โดยใช้ 16 สีที่เลือกไว้ก่อนหน้านี้"
   ]
  },
  {
   "cell_type": "code",
   "execution_count": null,
   "metadata": {
    "deletable": false,
    "editable": false
   },
   "outputs": [],
   "source": [
    "# Display original image\n",
    "fig, ax = plt.subplots(1,2, figsize=(16,16))\n",
    "plt.axis('off')\n",
    "\n",
    "ax[0].imshow(original_img)\n",
    "ax[0].set_title('Original')\n",
    "ax[0].set_axis_off()\n",
    "\n",
    "\n",
    "# Display compressed image\n",
    "ax[1].imshow(X_recovered)\n",
    "ax[1].set_title('Compressed with %d colours'%K)\n",
    "ax[1].set_axis_off()"
   ]
  },
  {
   "cell_type": "markdown",
   "metadata": {},
   "source": [
    "**ขอแสดงความยินดี!\n",
    "คุณได้เรียนรู้การใช้ K-means clustering แล้ว ในบทเรียนต่อไป คุณจะได้เรียนรู้เกี่ยวกับกรณีการใช้งานอีกอย่างหนึ่งของการเรียนรู้แบบไม่มีผู้สอน: การตรวจจับความผิดปกติ พบกันใหม่!**"
   ]
  }
 ],
 "metadata": {
  "kernelspec": {
   "display_name": "Python 3",
   "language": "python",
   "name": "python3"
  },
  "language_info": {
   "codemirror_mode": {
    "name": "ipython",
    "version": 3
   },
   "file_extension": ".py",
   "mimetype": "text/x-python",
   "name": "python",
   "nbconvert_exporter": "python",
   "pygments_lexer": "ipython3",
   "version": "3.7.6"
  }
 },
 "nbformat": 4,
 "nbformat_minor": 4
}

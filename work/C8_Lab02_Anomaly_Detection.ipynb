{
 "cells": [
  {
   "cell_type": "markdown",
   "id": "2c795075",
   "metadata": {},
   "source": [
    "# การตรวจจับความผิดปกติ\n",
    "\n",
    "ในแบบฝึกหัดนี้ คุณจะได้นำอัลกอริทึมการตรวจจับความผิดปกติไปใช้และนำไปใช้ในการตรวจจับเซิร์ฟเวอร์ที่ล้มเหลวบนเครือข่าย\n",
    "\n",
    "\n",
    "\n",
    "\n",
    "# โครงร่าง\n",
    "- [ 1 - แพ็คเกจ ](#1)\n",
    "- [ 2 - การตรวจจับความผิดปกติ](#2)\n",
    "  - [ 2.1 ปัญหา](#2.1)\n",
    "  - [ 2.2  ชุดข้อมูล](#2.2)\n",
    "  - [ 2.3 การแจกแจงแบบเกาส์เซียน](#2.3)\n",
    "    - [ แบบฝึกหัด 1](#ex01)\n",
    "    - [ แบบฝึกหัด 2](#ex02)\n",
    "  - [ 2.4 ชุดข้อมูลมิติสูง](#2.4)\n"
   ]
  },
  {
   "cell_type": "markdown",
   "id": "5846a6bd",
   "metadata": {},
   "source": [
    "<a name=\"1\"></a>\n",
    "## 1 - แพ็กเกจ \n",
    "\n",
    "ก่อนอื่น มาเรียกใช้เซลล์ด้านล่างเพื่อนำเข้าแพ็กเกจทั้งหมดที่คุณจะต้องใช้ในระหว่างการกำหนดงานนี้\n",
    "- [numpy](www.numpy.org)  เป็นแพ็กเกจพื้นฐานสำหรับการทำงานกับเมทริกซ์ใน Python\n",
    "- [matplotlib](http://matplotlib.org) เป็นไลบรารีที่มีชื่อเสียงสำหรับการวาดกราฟใน Python\n",
    "- ``utils.py`` ประกอบด้วยฟังก์ชันตัวช่วยสำหรับงานนี้นะ คุณไม่จำเป็นต้องแก้ไขโค้ดในไฟล์นี้\n"
   ]
  },
  {
   "cell_type": "code",
   "execution_count": null,
   "id": "4d77e12b",
   "metadata": {},
   "outputs": [],
   "source": [
    "from google.colab import output\n",
    "output.enable_custom_widget_manager()\n",
    "try:\n",
    "  %matplotlib widget\n",
    "  print(\"widget is already installed\")\n",
    "except:\n",
    "  print(\"widget is not been installed, install now..\")\n",
    "  !pip install ipympl"
   ]
  },
  {
   "cell_type": "code",
   "execution_count": null,
   "id": "789c9037",
   "metadata": {},
   "outputs": [],
   "source": [
    "!git clone https://github.com/Smith-WeStrideTH/Unsupervised_Learning_Course.git\n",
    "%cd Unsupervised_Learning_Course/work "
   ]
  },
  {
   "cell_type": "code",
   "execution_count": null,
   "id": "6ac38668",
   "metadata": {
    "deletable": false,
    "editable": false
   },
   "outputs": [],
   "source": [
    "import numpy as np\n",
    "import matplotlib.pyplot as plt\n",
    "from utils_a import *\n",
    "\n",
    "%matplotlib inline"
   ]
  },
  {
   "cell_type": "markdown",
   "id": "9a6644db",
   "metadata": {},
   "source": [
    "<a name=\"2\"></a>\n",
    "## 2 - การตรวจจับความผิดปกติ\n",
    "\n",
    "\n",
    "\n",
    "<a name=\"2.1\"></a>\n",
    "### 2.1 คำจำกัดความปัญหา\n",
    "\n",
    "ในแบบฝึกหัดนี้ คุณจะนำอัลกอริทึมการตรวจจับความผิดปกติมาใช้เพื่อตรวจจับพฤติกรรมผิดปกติในเซิร์ฟเวอร์คอมพิวเตอร์\n",
    "\n",
    "\n",
    "ชุดข้อมูลประกอบด้วยสองคุณลักษณะ -\n",
    "   * ผลผลิต (mb/s) และ\n",
    "   * ละเวลาตอบสนอง (ms) ของแต่ละเซิร์ฟเวอร์\n",
    "\n",
    "ในขณะที่เซิร์ฟเวอร์ของคุณทำงานอยู่ คุณได้รวบรวมตัวอย่าง $m=307$ ตัวอย่างของพฤติกรรมของพวกมัน ดังนั้นจึงมีชุดข้อมูลที่ไม่ได้ติดป้ายกำกับ  $\\{x^{(1)}, \\ldots, x^{(m)}\\}$. \n",
    "* คุณสงสัยว่าตัวอย่างส่วนใหญ่เหล่านี้เป็นตัวอย่าง \"ปกติ\" (ไม่ผิดปกติ) ของเซิร์ฟเวอร์ที่ทำงานปกติ แต่ในชุดข้อมูลนี้อาจมีตัวอย่างบางอย่างของเซิร์ฟเวอร์ที่ทำงานผิดปกติอยู่ด้วย\n",
    "\n",
    "คุณจะใช้แบบจำลอง Gaussian เพื่อตรวจจับตัวอย่างผิดปกติในชุดข้อมูลของคุณ\n",
    "* คุณจะเริ่มต้นด้วยชุดข้อมูล 2 มิติที่จะช่วยให้คุณมองเห็นภาพว่าอัลกอริทึมกำลังทำอะไรอยู่\n",
    "* บนชุดข้อมูลนั้น คุณจะปรับฟังก์ชันการแจกแจงแบบ Gaussian และค้นหาค่าที่มีความน่าจะเป็นต่ำมาก ดังนั้นจึงถือได้ว่าเป็นความผิดปกติ\n",
    "* หลังจากนั้น คุณจะใช้อัลกอริทึมการตรวจจับความผิดปกติกับชุดข้อมูลขนาดใหญ่ที่มีหลายมิติ\n",
    "\n",
    "<a name=\"2.2\"></a>\n",
    "### 2.2  ชุดข้อมูล\n",
    "\n",
    "คุณจะเริ่มต้นด้วยการโหลดชุดข้อมูลสำหรับงานนี้\n",
    "- ฟังก์ชัน  `load_data()` ที่แสดงด้านล่างจะโหลดข้อมูลลงในตัวแปร `X_train`, `X_val` และ  `y_val` \n",
    "    - คุณจะใช้ `X_train`  เพื่อปรับฟังก์ชันการแจกแจงแบบ Gaussian\n",
    "    - คุณจะใช้ `X_val` และ  `y_val` เป็นชุดตรวจสอบข้ามเพื่อเลือกเกณฑ์และกำหนดตัวอย่างผิดปกติและปกติ"
   ]
  },
  {
   "cell_type": "code",
   "execution_count": null,
   "id": "e49d6c31",
   "metadata": {
    "deletable": false,
    "editable": false
   },
   "outputs": [],
   "source": [
    "# Load the dataset\n",
    "X_train, X_val, y_val = load_data()"
   ]
  },
  {
   "cell_type": "markdown",
   "id": "87d32575",
   "metadata": {},
   "source": [
    "#### ดูตัวแปร\n",
    "มาทำความคุ้นเคยกับชุดข้อมูลของคุณกัน\n",
    "- วิธีที่ดีคือการพิมพ์แต่ละตัวแปรออกมาทีละตัวและดูว่ามันประกอบด้วยอะไรบ้าง\n",
    "\n",
    "โค้ดด้านล่างจะพิมพ์ห้าองค์ประกอบแรกของแต่ละตัวแปร"
   ]
  },
  {
   "cell_type": "code",
   "execution_count": null,
   "id": "b28c8cdc",
   "metadata": {
    "deletable": false,
    "editable": false
   },
   "outputs": [],
   "source": [
    "# Display the first five elements of X_train\n",
    "print(\"The first 5 elements of X_train are:\\n\", X_train[:5])  "
   ]
  },
  {
   "cell_type": "code",
   "execution_count": null,
   "id": "1595a7e4",
   "metadata": {
    "deletable": false,
    "editable": false
   },
   "outputs": [],
   "source": [
    "# Display the first five elements of X_val\n",
    "print(\"The first 5 elements of X_val are\\n\", X_val[:5])  "
   ]
  },
  {
   "cell_type": "code",
   "execution_count": null,
   "id": "217eac80",
   "metadata": {
    "deletable": false,
    "editable": false
   },
   "outputs": [],
   "source": [
    "# Display the first five elements of y_val\n",
    "print(\"The first 5 elements of y_val are\\n\", y_val[:5])  "
   ]
  },
  {
   "cell_type": "markdown",
   "id": "18b2b856",
   "metadata": {},
   "source": [
    "#### ตรวจสอบมิติของตัวแปรของคุณ\n",
    "\n",
    "วิธีที่มีประโยชน์อีกวิธีหนึ่งในการทำความคุ้นเคยกับข้อมูลของคุณคือการดูมิติของข้อมูล\n",
    "\n",
    "โค้ดด้านล่างจะพิมพ์รูปร่างของ `X_train`, `X_val` และ  `y_val`."
   ]
  },
  {
   "cell_type": "code",
   "execution_count": null,
   "id": "cb09be25",
   "metadata": {
    "deletable": false,
    "editable": false
   },
   "outputs": [],
   "source": [
    "print ('The shape of X_train is:', X_train.shape)\n",
    "print ('The shape of X_val is:', X_val.shape)\n",
    "print ('The shape of y_val is: ', y_val.shape)"
   ]
  },
  {
   "cell_type": "markdown",
   "id": "7ea3f0c4",
   "metadata": {},
   "source": [
    "#### การมองเห็นข้อมูลของคุณ\n",
    "\n",
    "ก่อนเริ่มงานใด ๆ มักจะเป็นประโยชน์ในการทำความเข้าใจข้อมูลด้วยการมองเห็นข้อมูล\n",
    "- สำหรับชุดข้อมูลนี้ คุณสามารถใช้ scatter plot เพื่อมองเห็นข้อมูล (`X_train`), เนื่องจากมีเพียงสองคุณสมบัติที่จะพล็อต (throughput และ latency)\n",
    "\n",
    "- พล็อตของคุณควรมีลักษณะคล้ายกับด้านล่าง\n",
    "<img src=\"images/figure1_a.png\" width=\"500\" height=\"500\">"
   ]
  },
  {
   "cell_type": "code",
   "execution_count": null,
   "id": "ba3036f7",
   "metadata": {
    "deletable": false,
    "editable": false
   },
   "outputs": [],
   "source": [
    "# Create a scatter plot of the data. To change the markers to blue \"x\",\n",
    "# we used the 'marker' and 'c' parameters\n",
    "plt.scatter(X_train[:, 0], X_train[:, 1], marker='x', c='b') \n",
    "\n",
    "# Set the title\n",
    "plt.title(\"The first dataset\")\n",
    "# Set the y-axis label\n",
    "plt.ylabel('Throughput (mb/s)')\n",
    "# Set the x-axis label\n",
    "plt.xlabel('Latency (ms)')\n",
    "# Set axis range\n",
    "plt.axis([0, 30, 0, 30])\n",
    "plt.show()"
   ]
  },
  {
   "cell_type": "markdown",
   "id": "2884a15f",
   "metadata": {},
   "source": [
    "<a name=\"2.3\"></a>\n",
    "### 2.3 Gaussian distribution (การแจกแจงแบบเกาส์เซียน)\n",
    "\n",
    "เพื่อทำการตรวจจับความผิดปกติ คุณจะต้องปรับโมเดลให้เข้ากับการแจกแจงของข้อมูลก่อน\n",
    "\n",
    "* กำหนดชุดฝึก $\\{x^{(1)}, ..., x^{(m)}\\}$  คุณต้องการประมาณการแจกแจงแบบเกาส์เซียนสำหรับแต่ละ\n",
    "คุณลักษณะ $x_i$. \n",
    "\n",
    "* นึกถึงการแจกแจงแบบเกาส์เซียนที่กำหนดโดย\n",
    "\n",
    "   $$ p(x ; \\mu,\\sigma ^2) = \\frac{1}{\\sqrt{2 \\pi \\sigma ^2}}\\exp^{ - \\frac{(x - \\mu)^2}{2 \\sigma ^2} }$$\n",
    "\n",
    "   โดยที่  $\\mu$ คือค่าเฉลี่ย และ $\\sigma^2$ คือความแปรปรวน\n",
    "   \n",
    "* สำหรับแต่ละคุณลักษณะ $i = 1\\ldots n$, คุณต้องค้นหาพารามิเตอร์ $\\mu_i$ และ  $\\sigma_i^2$ ที่เหมาะสมกับข้อมูลในมิติที่ $i$- $\\{x_i^{(1)}, ..., x_i^{(m)}\\}$ (มิติที่ i ของแต่ละตัวอย่าง)\n",
    "\n",
    "### 2.3.1 การประมาณค่าพารามิเตอร์สำหรับการแจกแจงแบบเกาส์เซียน\n",
    "\n",
    "**การใช้งาน:**: \n",
    "\n",
    "งานของคุณคือการเติมโค้ดใน `estimate_gaussian` ด้านล่าง"
   ]
  },
  {
   "cell_type": "markdown",
   "id": "a66fbb36",
   "metadata": {},
   "source": [
    "<a name=\"ex01\"></a>\n",
    "### แบบฝึกหัด 1\n",
    "\n",
    "โปรดเติมฟังก์ชัน `estimate_gaussian` ด้านล่างเพื่อคำนวณ `mu` (ค่าเฉลี่ยสำหรับแต่ละฟีเจอร์ใน  `X`) และ  `var` (ความแปรปรวนสำหรับแต่ละฟีเจอร์ใน `X`). \n",
    "\n",
    "คุณสามารถประมาณค่าพารามิเตอร์ ($\\mu_i$, $\\sigma_i^2$),  ของฟีเจอร์ที่ $i$-th\n",
    "โดยใช้สมการต่อไปนี้ เพื่อประมาณค่าเฉลี่ย คุณจะใช้:\n",
    "$$\\mu_i = \\frac{1}{m} \\sum_{j=1}^m x_i^{(j)}$$\n",
    "\n",
    "และสำหรับความแปรปรวน คุณจะใช้:\n",
    "\n",
    "$$\\sigma_i^2 = \\frac{1}{m} \\sum_{j=1}^m (x_i^{(j)} - \\mu_i)^2$$\n",
    "\n",
    "หากคุณติดขัด คุณสามารถตรวจสอบคำแนะนำที่นำเสนอหลังเซลล์ด้านล่างเพื่อช่วยคุณในการใช้งาน"
   ]
  },
  {
   "cell_type": "code",
   "execution_count": null,
   "id": "dd4c25f3",
   "metadata": {
    "deletable": false
   },
   "outputs": [],
   "source": [
    "# UNQ_C1\n",
    "# GRADED FUNCTION: estimate_gaussian\n",
    "\n",
    "def estimate_gaussian(X): \n",
    "    \"\"\"\n",
    "    Calculates mean and variance of all features \n",
    "    in the dataset\n",
    "    \n",
    "    Args:\n",
    "        X (ndarray): (m, n) Data matrix\n",
    "    \n",
    "    Returns:\n",
    "        mu (ndarray): (n,) Mean of all features\n",
    "        var (ndarray): (n,) Variance of all features\n",
    "    \"\"\"\n",
    "\n",
    "    m, n = X.shape\n",
    "    \n",
    "    ### START CODE HERE ### \n",
    "    \n",
    "    \n",
    "    ### END CODE HERE ### \n",
    "        \n",
    "    return mu, var"
   ]
  },
  {
   "cell_type": "markdown",
   "id": "6e73b921",
   "metadata": {},
   "source": [
    "<details>\n",
    "  <summary><font size=\"3\" color=\"darkgreen\"><b>Click for hints</b></font></summary>\n",
    "  \n",
    "   * คุณสามารถนำฟังก์ชันนี้ไปใช้งานได้สองวิธี:\n",
    "      * 1 - โดยใช้ลูปซ้อนกันสองชั้น - ลูปแรกวนรอบ คอลัมน์  **columns** ของ `X`(แต่ละฟีเจอร์) จากนั้นวนรอบแต่ละจุดข้อมูล\n",
    "      * 2 - ในลักษณะเวกเตอร์โดยใช้ `np.sum()` กับพารามิเตอร์ `axis = 0`  (เนื่องจากเราต้องการผลรวมสำหรับแต่ละคอลัมน์)\n",
    "\n",
    "    \n",
    "   * นี่คือวิธีการโครงสร้างการนำฟังก์ชันนี้ไปใช้งานโดยรวมสำหรับการใช้งานแบบเวกเตอร์:\n",
    "   \n",
    "     ```python  \n",
    "    def estimate_gaussian(X): \n",
    "        m, n = X.shape\n",
    "    \n",
    "        ### START CODE HERE ### \n",
    "        mu = # Your code here to calculate the mean of every feature\n",
    "        var = # Your code here to calculate the variance of every feature \n",
    "        ### END CODE HERE ### \n",
    "        \n",
    "        return mu, var\n",
    "    ```\n",
    "\n",
    "    หากคุณยังติดขัด คุณสามารถตรวจสอบคำใบ้ด้านล่างเพื่อหาวิธีคำนวณ `mu` และ  `var`.\n",
    "    \n",
    "    <details>\n",
    "          <summary><font size=\"2\" color=\"darkblue\"><b> คำแนะนำในการคำนวณ mu</b></font></summary>\n",
    "           &emsp; &emsp; คุณสามารถใช้ <a href=\"https://numpy.org/doc/stable/reference/generated/numpy.sum.html\">np.sum</a> ใช้ `axis = 0` เพื่อหาผลรวมของแต่ละคอลัมน์ของอาร์เรย์\n",
    "          <details>\n",
    "              <summary><font size=\"2\" color=\"blue\"><b>&emsp; &emsp; คำแนะนำเพิ่มเติมในการคำนวณ mu</b></font></summary>\n",
    "               &emsp; &emsp; คุณสามารถคำนวณค่า mu คือ <code>mu = 1 / m * np.sum(X, axis = 0)</code>\n",
    "           </details>\n",
    "    </details>\n",
    "    \n",
    "    <details>\n",
    "          <summary><font size=\"2\" color=\"darkblue\"><b> คำแนะนำในการคำนวณ var</b></font></summary>\n",
    "           &emsp; &emsp; You can use <a href=\"https://numpy.org/doc/stable/reference/generated/numpy.sum.html\">np.sum</a> ใช้ `axis = 0` เพื่อหาผลรวมของแต่ละคอลัมน์ของอาร์เรย์ และ <code>**2</code> รับค่า square.\n",
    "          <details>\n",
    "              <summary><font size=\"2\" color=\"blue\"><b>&emsp; &emsp; คำแนะนำเพิ่มเติมในการคำนวณ var</b></font></summary>\n",
    "               &emsp; &emsp; คุณสามารถคำนวณค่า var คือ <code> var = 1 / m * np.sum((X - mu) ** 2, axis = 0)</code>\n",
    "           </details>\n",
    "    </details>\n",
    "    \n",
    "</details>"
   ]
  },
  {
   "cell_type": "markdown",
   "id": "1ee8d180",
   "metadata": {},
   "source": [
    "คุณสามารถตรวจสอบว่าการใช้งานของคุณถูกต้องหรือไม่โดยการรันโค้ดทดสอบต่อไปนี้:"
   ]
  },
  {
   "cell_type": "code",
   "execution_count": null,
   "id": "ec33822f",
   "metadata": {
    "deletable": false,
    "editable": false
   },
   "outputs": [],
   "source": [
    "# Estimate mean and variance of each feature\n",
    "mu, var = estimate_gaussian(X_train)              \n",
    "\n",
    "print(\"Mean of each feature:\", mu)\n",
    "print(\"Variance of each feature:\", var)\n",
    "    \n",
    "# UNIT TEST\n",
    "from public_tests_a import *\n",
    "estimate_gaussian_test(estimate_gaussian)"
   ]
  },
  {
   "cell_type": "markdown",
   "id": "2e2de074",
   "metadata": {},
   "source": [
    "**ผลลัพธ์คาดหวัง**:\n",
    "<table>\n",
    "  <tr>\n",
    "    <td> <b>Mean of each feature: <b>  </td> \n",
    "    <td> [14.11222578 14.99771051]</td> \n",
    "   </tr>    \n",
    "   <tr>\n",
    "    <td> <b>Variance of each feature: <b>  </td>\n",
    "     <td> [1.83263141 1.70974533] </td> \n",
    "  </tr>\n",
    "</table>"
   ]
  },
  {
   "cell_type": "markdown",
   "id": "876efb9b",
   "metadata": {},
   "source": [
    "ตอนนี้คุณได้เรียนรู้วิธีการเขียนโค้ด  `estimate_gaussian`แล้ว เราจะมาสร้างภาพแสดงเส้นโค้งระดับของการแจกแจงแบบเกาส์เซียนที่ฟิตแล้ว\n",
    "\n",
    "คุณควรได้กราฟที่คล้ายกับรูปด้านล่าง \n",
    "<img src=\"images/figure2_a.png\" width=\"500\" height=\"500\">\n",
    "\n",
    "\n",
    "จากพล็อตของคุณ คุณจะเห็นว่าตัวอย่างส่วนใหญ่จะอยู่ในบริเวณที่มีความน่าจะเป็นสูงสุด ในขณะที่ตัวอย่างผิดปกติจะอยู่ในบริเวณที่มีความน่าจะเป็นต่ำกว่า"
   ]
  },
  {
   "cell_type": "code",
   "execution_count": null,
   "id": "20060c90",
   "metadata": {
    "deletable": false,
    "editable": false
   },
   "outputs": [],
   "source": [
    "# Returns the density of the multivariate normal\n",
    "# at each data point (row) of X_train\n",
    "p = multivariate_gaussian(X_train, mu, var)\n",
    "\n",
    "#Plotting code \n",
    "visualize_fit(X_train, mu, var)"
   ]
  },
  {
   "cell_type": "markdown",
   "id": "03dc7679",
   "metadata": {},
   "source": [
    "### 2.3.2 การเลือกเกณฑ์ $\\epsilon$\n",
    "\n",
    "ตอนนี้คุณได้ประมาณค่าพารามิเตอร์ของ Gaussian แล้ว คุณสามารถตรวจสอบว่าตัวอย่างใดมีโอกาสสูงมากและตัวอย่างใดมีโอกาสต่่มาก\n",
    "\n",
    "\n",
    "* ตัวอย่างที่มีโอกาสต่ำมีแนวโน้มที่จะเป็นความผิดปกติในชุดข้อมูลของเรา\n",
    "* วิธีหนึ่งในการกำหนดตัวอย่างใดเป็นความผิดปกติคือการเลือกเกณฑ์โดยใช้ชุดตรวจสอบแบบ cross-validation \n",
    "\n",
    "ในส่วนนี้ คุณจะเติมโค้ดใน  `select_threshold` เพื่อเลือกเกณฑ์ $\\varepsilon$ โดยใช้คะแนน $F_1$ บนชุดตรวจสอบแบบ cross-validation\n",
    "\n",
    "* สำหรับสิ่งนี้ เราจะใช้ชุดตรวจสอบแบบ cross-validation \n",
    "$\\{(x_{\\rm cv}^{(1)}, y_{\\rm cv}^{(1)}),\\ldots, (x_{\\rm cv}^{(m_{\\rm cv})}, y_{\\rm cv}^{(m_{\\rm cv})})\\}$, โดยที่ป้ายกำกับ $y=1$ สอดคล้องกับตัวอย่างผิดปกติ และ $y=0$ สอดคล้องกับตัวอย่างปกติ \n",
    "* สำหรับแต่ละตัวอย่างการตรวจสอบแบบ cross-validation เราจะคำนวณ  $p(x_{\\rm cv}^{(i)})$. เวกเตอร์ของความน่าจะเป็นทั้งหมดเหล่านี้  $p(x_{\\rm cv}^{(1)}), \\ldots, p(x_{\\rm cv}^{(m_{\\rm cv})})$ ถูกส่งผ่านไปยัง `select_threshold` ในเวกเตอร์ `p_val`. \n",
    "* ป้ายกำกับที่สอดคล้องกัน $y_{\\rm cv}^{(1)}, \\ldots, y_{\\rm cv}^{(m_{\\rm cv})}$ ถูกส่งผ่านไปยังฟังก์ชันเดียวกันในเวกเตอร์ `y_val`."
   ]
  },
  {
   "cell_type": "markdown",
   "id": "6e7507ae",
   "metadata": {},
   "source": [
    "<a name=\"ex02\"></a>\n",
    "### แบบฝึกหัดที่ 2\n",
    "\n",
    "โปรดเติมฟังก์ชัน `select_threshold` ด้านล่างเพื่อค้นหาค่า threshold ที่ดีที่สุดในการเลือกค่าผิดปกติตามผลลัพธ์จากชุดตรวจสอบ (`p_val`) และค่าจริง (`y_val`). \n",
    "\n",
    "* ในโค้ด  `select_threshold`, ที่ให้มา มีลูปอยู่แล้วที่จะลองค่าต่างๆ ของ $\\varepsilon$ หลายค่า และเลือก $\\varepsilon$ ที่ดีที่สุดตามคะแนน `F1`\n",
    "\n",
    "* คุณต้องเขียนโค้ดเพื่อคำนวณคะแนน `F1` จากการเลือก `epsilon` เป็นเกณฑ์และวางค่าใน in `F1`. \n",
    "\n",
    "  * โปรดจำไว้ว่าหากตัวอย่าง $x$ มีความน่าจะเป็นต่ำ $p(x) < \\varepsilon$ แสดงว่าถูกจัดประเภทเป็นค่าผิดปกติ\n",
    "        \n",
    "  * จากนั้น คุณสามารถคำนวณความแม่นยำ (precision) และการเรียกคืน (recall) ได้ดังนี้:\n",
    "   $$\\begin{aligned}\n",
    "   prec&=&\\frac{tp}{tp+fp}\\\\\n",
    "   rec&=&\\frac{tp}{tp+fn},\n",
    "   \\end{aligned}$$ โดยที่\n",
    "\n",
    "    * $tp$  คือจำนวน true positive: ป้ายกำกับจริงระบุว่าเป็นค่าผิดปกติ และอัลกอริทึมของเราจัดประเภทถูกต้องว่าเป็นค่าผิดปกติ\n",
    "    * $fp$ คือจำนวน false positive: ป้ายกำกับจริงระบุว่าไม่ใช่ค่าผิดปกติ แต่อัลกอริทึมของเราจัดประเภทผิดว่าเป็นค่าผิดปกติ\n",
    "    * $fn$  คือจำนวน false negative: ป้ายกำกับจริงระบุว่าเป็นค่าผิดปกติ แต่อัลกอริทึมของเราจัดประเภทผิดว่าไม่ใช่ค่าผิดปกติ\n",
    "\n",
    "  * คะแนน  $F_1$ คำนวณโดยใช้ความแม่นยำ ($prec$) และการเรียกคืน ($rec$)  ดังนี้:\n",
    "  \n",
    "    $$F_1 = \\frac{2\\cdot prec \\cdot rec}{prec + rec}$$ \n",
    "\n",
    "**หมายเหตุการใช้งาน:** \n",
    "เพื่อคำนวณ $tp$, $fp$ และ  $fn$, คุณอาจสามารถใช้การนำไปใช้แบบเวกเตอร์แทนการวนลูปผ่านตัวอย่างทั้งหมด\n",
    "\n",
    "\n",
    "หากคุณติดขัด คุณสามารถตรวจสอบคำแนะนำที่นำเสนอหลังเซลล์ด้านล่างเพื่อช่วยคุณในการใช้งาน"
   ]
  },
  {
   "cell_type": "code",
   "execution_count": null,
   "id": "8104c07a",
   "metadata": {
    "deletable": false
   },
   "outputs": [],
   "source": [
    "# UNQ_C2\n",
    "# GRADED FUNCTION: select_threshold\n",
    "\n",
    "def select_threshold(y_val, p_val): \n",
    "    \"\"\"\n",
    "    Finds the best threshold to use for selecting outliers \n",
    "    based on the results from a validation set (p_val) \n",
    "    and the ground truth (y_val)\n",
    "    \n",
    "    Args:\n",
    "        y_val (ndarray): Ground truth on validation set\n",
    "        p_val (ndarray): Results on validation set\n",
    "        \n",
    "    Returns:\n",
    "        epsilon (float): Threshold chosen \n",
    "        F1 (float):      F1 score by choosing epsilon as threshold\n",
    "    \"\"\" \n",
    "\n",
    "    best_epsilon = 0\n",
    "    best_F1 = 0\n",
    "    F1 = 0\n",
    "    \n",
    "    step_size = (max(p_val) - min(p_val)) / 1000\n",
    "    \n",
    "    for epsilon in np.arange(min(p_val), max(p_val), step_size):\n",
    "    \n",
    "        ### START CODE HERE ### \n",
    "        \n",
    "        \n",
    "        \n",
    "        \n",
    "        \n",
    "        \n",
    "        \n",
    "        ### END CODE HERE ### \n",
    "        \n",
    "        if F1 > best_F1:\n",
    "            best_F1 = F1\n",
    "            best_epsilon = epsilon\n",
    "        \n",
    "    return best_epsilon, best_F1"
   ]
  },
  {
   "cell_type": "markdown",
   "id": "c70ede44",
   "metadata": {},
   "source": [
    "<details>\n",
    "  <summary><font size=\"3\" color=\"darkgreen\"><b>Click for hints</b></font></summary>\n",
    "\n",
    "   * ต่อไปนี้คือวิธีการโครงสร้างการนำไปใช้โดยรวมของฟังก์ชันนี้สำหรับการนำไปใช้แบบเวกเตอร์\n",
    "     ```python  \n",
    "    def select_threshold(y_val, p_val): \n",
    "        best_epsilon = 0\n",
    "        best_F1 = 0\n",
    "        F1 = 0\n",
    "    \n",
    "        step_size = (max(p_val) - min(p_val)) / 1000\n",
    "    \n",
    "        for epsilon in np.arange(min(p_val), max(p_val), step_size):\n",
    "    \n",
    "            ### START CODE HERE ### \n",
    "            predictions = # Your code here to calculate predictions for each example using epsilon as threshold\n",
    "        \n",
    "            tp = # Your code here to calculate number of true positives\n",
    "            fp = # Your code here to calculate number of false positives\n",
    "            fn = # Your code here to calculate number of false negatives\n",
    "        \n",
    "            prec = # Your code here to calculate precision\n",
    "            rec = # Your code here to calculate recall\n",
    "        \n",
    "            F1 = # Your code here to calculate F1\n",
    "            ### END CODE HERE ### \n",
    "        \n",
    "            if F1 > best_F1:\n",
    "                best_F1 = F1\n",
    "                best_epsilon = epsilon\n",
    "        \n",
    "        return best_epsilon, best_F1\n",
    "    ```\n",
    "\n",
    "    หากคุณยังติดขัด คุณสามารถตรวจสอบคำใบ้ด้านล่างเพื่อหาคำตอบในการคำนวณตัวแปรแต่ละตัว\n",
    "    \n",
    "    <details>\n",
    "          <summary><font size=\"2\" color=\"darkblue\"><b> คำแนะนำในการคำนวณ predictions</b></font></summary>\n",
    "           &emsp; &emsp; หากตัวอย่าง  𝑥  มีความน่าจะเป็นต่ำ    $p(x) < \\epsilon$ , แสดงว่ามันถูกจัดประเภทเป็นความผิดปกติ เพื่อให้ได้การคาดการณ์สำหรับแต่ละตัวอย่าง   (0/False สำหรับปกติ และ 1/True สำหรับความผิดปกติ) คุณสามารถใช้ <code>predictions = (p_val < epsilon)</code>\n",
    "    </details>\n",
    "    \n",
    "    <details>\n",
    "          <summary><font size=\"2\" color=\"darkblue\"><b> คำแนะนำในการคำนวณ tp, fp, fn</b></font></summary>\n",
    "           &emsp; &emsp; \n",
    "        <ul>\n",
    "          <li>หากคุณมีค่าไบนารี่หลายค่าในเวกเตอร์ไบนารี $n$ มิติ คุณสามารถหาจำนวนค่าที่เป็น 0 ในเวกเตอร์นี้: `np.sum(v == 0)` </li>\n",
    "          <li> คุณสามารถใช้ตัวดำเนินการ and เชิงตรรกะกับเวกเตอร์ไบนารีดังกล่าวได้เช่นกัน ตัวอย่างเช่น  `predictions`เป็นเวกเตอร์ไบนารีที่มีขนาดเท่ากับจำนวนชุดตรวจสอบข้ามของคุณ โดยที่องค์ประกอบที่ $i$ -th  จะเท่ากับ 1 หากอัลกอริทึมของคุณพิจารณา $x_{\\rm cv}^{(i)}$ ว่าเป็นค่าผิดปกติ และเป็น 0 มิฉะนั้น </li>\n",
    "          <li>จากนั้น คุณสามารถคำนวณจำนวนผลบวกลวง (false positives) โดยใช้:  \n",
    "<code>fp = sum((predictions == 1) & (y_val == 0))</code>.</li>\n",
    "        </ul>\n",
    "         <details>\n",
    "              <summary><font size=\"2\" color=\"blue\"><b>&emsp; &emsp; คำแนะนำเพิ่มเติมในการคำนวณ tp, fn</b></font></summary>\n",
    "               &emsp; &emsp;\n",
    "             <ul>\n",
    "              <li> คุณสามารคำนวณ tp คือ <code> tp = np.sum((predictions == 1) & (y_val == 1))</code></li>\n",
    "              <li> คุณสามารคำนวณ tn คือ <code> fn = np.sum((predictions == 0) & (y_val == 1))</code></li>  \n",
    "              </ul>\n",
    "          </details>\n",
    "    </details>\n",
    "        \n",
    "    <details>\n",
    "          <summary><font size=\"2\" color=\"darkblue\"><b> คำแนะนำในการคำนวณ precision</b></font></summary>\n",
    "           &emsp; &emsp; คุณสามารคำนวณ precision คือ <code>prec = tp / (tp + fp)</code>\n",
    "    </details>\n",
    "        \n",
    "    <details>\n",
    "          <summary><font size=\"2\" color=\"darkblue\"><b> คำแนะนำในการคำนวณ recall</b></font></summary>\n",
    "           &emsp; &emsp; คุณสามารคำนวณ recall คือ <code>rec = tp / (tp + fn)</code>\n",
    "    </details>\n",
    "        \n",
    "    <details>\n",
    "          <summary><font size=\"2\" color=\"darkblue\"><b>คำแนะนำในการคำนวณ F1</b></font></summary>\n",
    "           &emsp; &emsp; คุณสามารคำนวณ F1 คือ <code>F1 = 2 * prec * rec / (prec + rec)</code>\n",
    "    </details>\n",
    "    \n",
    "</details>"
   ]
  },
  {
   "cell_type": "markdown",
   "id": "d95c7cee",
   "metadata": {},
   "source": [
    "คุณสามารถตรวจสอบการใช้งานโค้ดของคุณโดยใช้โค้ดด้านล่างนี้"
   ]
  },
  {
   "cell_type": "code",
   "execution_count": null,
   "id": "fb2359b1",
   "metadata": {
    "deletable": false,
    "editable": false
   },
   "outputs": [],
   "source": [
    "p_val = multivariate_gaussian(X_val, mu, var)\n",
    "epsilon, F1 = select_threshold(y_val, p_val)\n",
    "\n",
    "print('Best epsilon found using cross-validation: %e' % epsilon)\n",
    "print('Best F1 on Cross Validation Set: %f' % F1)\n",
    "    \n",
    "# UNIT TEST\n",
    "select_threshold_test(select_threshold)\n"
   ]
  },
  {
   "cell_type": "markdown",
   "id": "ef1116d4",
   "metadata": {},
   "source": [
    "**ผลลัพธ์คาดหวัง**:\n",
    "<table>\n",
    "  <tr>\n",
    "    <td> <b>Best epsilon found using cross-validation: <b>  </td> \n",
    "    <td> 8.99e-05</td> \n",
    "   </tr>    \n",
    "   <tr>\n",
    "    <td> <b>Best F1 on Cross Validation Set: <b>  </td>\n",
    "     <td> 0.875 </td> \n",
    "  </tr>\n",
    "</table>"
   ]
  },
  {
   "cell_type": "markdown",
   "id": "0e9b82dc",
   "metadata": {},
   "source": [
    "Now we will run your anomaly detection code and circle the anomalies in the plot (Figure 3 below).\n",
    "\n",
    "<img src=\"images/figure3_a.png\" width=\"500\" height=\"500\">"
   ]
  },
  {
   "cell_type": "code",
   "execution_count": null,
   "id": "f73e98a7",
   "metadata": {
    "deletable": false,
    "editable": false
   },
   "outputs": [],
   "source": [
    "# Find the outliers in the training set \n",
    "outliers = p < epsilon\n",
    "\n",
    "# Visualize the fit\n",
    "visualize_fit(X_train, mu, var)\n",
    "\n",
    "# Draw a red circle around those outliers\n",
    "plt.plot(X_train[outliers, 0], X_train[outliers, 1], 'ro',\n",
    "         markersize= 10,markerfacecolor='none', markeredgewidth=2)"
   ]
  },
  {
   "cell_type": "markdown",
   "id": "20e8b082",
   "metadata": {},
   "source": [
    "<a name=\"2.4\"></a>\n",
    "### 2.4 High dimensional dataset\n",
    "\n",
    "ตอนนี้ เราจะรันอัลกอริทึมการตรวจจับความผิดปกติที่คุณได้นำไปใช้กับชุดข้อมูลจริงและยากกว่า\n",
    "\n",
    "ในชุดข้อมูลนี้ แต่ละตัวอย่างถูกอธิบายโดย 11 คุณลักษณะ จับภาพคุณสมบัติมากขึ้นของเซิร์ฟเวอร์คอมพิวเตอร์ของคุณ\n",
    "\n",
    "เริ่มกันด้วยการโหลดชุดข้อมูล\n",
    "\n",
    "- ฟังก์ชัน  `load_data()` ที่แสดงด้านล่างจะโหลดข้อมูลลงในตัวแปร `X_train_high`, `X_val_high` และ  `y_val_high`\n",
    "    -  `_high` หมายถึงการแยกแยะตัวแปรเหล่านี้จากตัวแปรที่ใช้ในส่วนก่อนหน้า\n",
    "    - เราจะใช้ `X_train_high` เพื่อปรับฟังก์ชันการแจกแจงแบบเกาส์เซียน (Gaussian distribution) \n",
    "    - เราจะใช้ `X_val_high` และ  `y_val_high`  เป็นชุดตรวจสอบข้ามเพื่อเลือกเกณฑ์และกำหนดตัวอย่างผิดปกติและปกติ"
   ]
  },
  {
   "cell_type": "code",
   "execution_count": null,
   "id": "951e6e50",
   "metadata": {
    "deletable": false,
    "editable": false
   },
   "outputs": [],
   "source": [
    "# load the dataset\n",
    "X_train_high, X_val_high, y_val_high = load_data_multi()"
   ]
  },
  {
   "cell_type": "markdown",
   "id": "ae7c8eda",
   "metadata": {},
   "source": [
    "#### ตรวจสอบมิติของตัวแปรของคุณ\n",
    "\n",
    "มาตรวจสอบมิติของตัวแปรใหม่เหล่านี้เพื่อทำความคุ้นเคยกับข้อมูลกัน"
   ]
  },
  {
   "cell_type": "code",
   "execution_count": null,
   "id": "66e92094",
   "metadata": {
    "deletable": false,
    "editable": false
   },
   "outputs": [],
   "source": [
    "print ('The shape of X_train_high is:', X_train_high.shape)\n",
    "print ('The shape of X_val_high is:', X_val_high.shape)\n",
    "print ('The shape of y_val_high is: ', y_val_high.shape)"
   ]
  },
  {
   "cell_type": "markdown",
   "id": "778dd725",
   "metadata": {},
   "source": [
    "#### การตรวจจับความผิดปกติ \n",
    "\n",
    "ตอนนี้ ลองใช้อัลกอริทึมการตรวจจับความผิดปกติกับชุดข้อมูลใหม่นี้\n",
    "\n",
    "โค้ดด้านล่างจะใช้โค้ดของคุณเพื่อ\n",
    "* ประมาณค่าพารามิเตอร์ Gaussian ($\\mu_i$ และ $\\sigma_i^2$)\n",
    "* ประเมินความน่าจะเป็นสำหรับทั้งข้อมูลฝึก `X_train_high` ที่คุณประมาณค่าพารามิเตอร์ Gaussian และสำหรับชุดตรวจสอบข้าม `X_val_high`. \n",
    "* สุดท้าย จะใช้ `select_threshold` เพื่อหาค่า threshold  $\\varepsilon$ ที่ดีที่สุด"
   ]
  },
  {
   "cell_type": "code",
   "execution_count": null,
   "id": "79fd69bc",
   "metadata": {
    "deletable": false,
    "editable": false
   },
   "outputs": [],
   "source": [
    "# Apply the same steps to the larger dataset\n",
    "\n",
    "# Estimate the Gaussian parameters\n",
    "mu_high, var_high = estimate_gaussian(X_train_high)\n",
    "\n",
    "# Evaluate the probabilites for the training set\n",
    "p_high = multivariate_gaussian(X_train_high, mu_high, var_high)\n",
    "\n",
    "# Evaluate the probabilites for the cross validation set\n",
    "p_val_high = multivariate_gaussian(X_val_high, mu_high, var_high)\n",
    "\n",
    "# Find the best threshold\n",
    "epsilon_high, F1_high = select_threshold(y_val_high, p_val_high)\n",
    "\n",
    "print('Best epsilon found using cross-validation: %e'% epsilon_high)\n",
    "print('Best F1 on Cross Validation Set:  %f'% F1_high)\n",
    "print('# Anomalies found: %d'% sum(p_high < epsilon_high))"
   ]
  },
  {
   "cell_type": "markdown",
   "id": "29951dae",
   "metadata": {},
   "source": [
    "**ผลลัพธ์คาดหวัง**:\n",
    "<table>\n",
    "  <tr>\n",
    "    <td> <b>Best epsilon found using cross-validation: <b>  </td> \n",
    "    <td> 1.38e-18</td> \n",
    "   </tr>    \n",
    "   <tr>\n",
    "    <td> <b>Best F1 on Cross Validation Set: <b>  </td>\n",
    "     <td> 0.615385 </td> \n",
    "  </tr>\n",
    "    <tr>\n",
    "    <td> <b># anomalies found: <b>  </td>\n",
    "     <td>  117 </td> \n",
    "  </tr>\n",
    "</table>"
   ]
  }
 ],
 "metadata": {
  "kernelspec": {
   "display_name": "Python 3",
   "language": "python",
   "name": "python3"
  },
  "language_info": {
   "codemirror_mode": {
    "name": "ipython",
    "version": 3
   },
   "file_extension": ".py",
   "mimetype": "text/x-python",
   "name": "python",
   "nbconvert_exporter": "python",
   "pygments_lexer": "ipython3",
   "version": "3.7.6"
  }
 },
 "nbformat": 4,
 "nbformat_minor": 5
}

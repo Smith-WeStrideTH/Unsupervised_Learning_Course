{
 "cells": [
  {
   "cell_type": "markdown",
   "metadata": {},
   "source": [
    "# ตัวอย่างของ State Action Value Function \n",
    "\n",
    "ใน Jupyter Notebook นี้ คุณสามารถปรับเปลี่ยนตัวอย่าง Mars Rover เพื่อดูว่าค่าของ Q(s,a) จะเปลี่ยนแปลงอย่างไรเมื่อมีการเปลี่ยนแปลงค่า reward และ discount factor"
   ]
  },
  {
   "cell_type": "code",
   "execution_count": null,
   "metadata": {},
   "outputs": [],
   "source": [
    "import numpy as np\n",
    "from utils_c10 import *"
   ]
  },
  {
   "cell_type": "code",
   "execution_count": null,
   "metadata": {},
   "outputs": [],
   "source": [
    "# Do not modify\n",
    "num_states = 6\n",
    "num_actions = 2"
   ]
  },
  {
   "cell_type": "code",
   "execution_count": null,
   "metadata": {},
   "outputs": [],
   "source": [
    "terminal_left_reward = 100\n",
    "terminal_right_reward = 40\n",
    "each_step_reward = 0\n",
    "\n",
    "# Discount factor\n",
    "gamma = 0.5\n",
    "\n",
    "# Probability of going in the wrong direction\n",
    "misstep_prob = 0"
   ]
  },
  {
   "cell_type": "code",
   "execution_count": null,
   "metadata": {},
   "outputs": [],
   "source": [
    "generate_visualization(terminal_left_reward, terminal_right_reward, each_step_reward, gamma, misstep_prob)"
   ]
  }
 ],
 "metadata": {
  "kernelspec": {
   "display_name": "Python 3",
   "language": "python",
   "name": "python3"
  },
  "language_info": {
   "codemirror_mode": {
    "name": "ipython",
    "version": 3
   },
   "file_extension": ".py",
   "mimetype": "text/x-python",
   "name": "python",
   "nbconvert_exporter": "python",
   "pygments_lexer": "ipython3",
   "version": "3.7.6"
  }
 },
 "nbformat": 4,
 "nbformat_minor": 5
}

{
 "cells": [
  {
   "cell_type": "markdown",
   "metadata": {
    "id": "Lzk7iX_CodX6",
    "tags": []
   },
   "source": [
    "# <img align=\"left\" src=\"./images/movie_camera.png\"     style=\" width:40px;  \" > ห้องปฏิบัติการฝึกหัด: ระบบแนะนำแบบ Collaborative Filtering (Collaborative Filtering Recommender Systems)\n",
    "\n",
    "In this exercise, you will implement collaborative filtering to build a recommender system for movies. \n",
    "\n",
    "# <img align=\"left\" src=\"./images/film_reel.png\"     style=\" width:40px;  \" > Outline\n",
    "- [ 1 - สัญลักษณ์](#1)\n",
    "- [ 2 - ระบบแนะนำ](#2)\n",
    "- [ 3 - ชุดข้อมูลการให้คะแนนภาพยนตร์](#3)\n",
    "- [ 4 - อัลกอริทึมการเรียนรู้แบบ Collaborative Filtering](#4)\n",
    "  - [ 4.1 ฟังก์ชันต้นทุนของ Collaborative Filtering](#4.1)\n",
    "    - [ แบบฝึกหัด 1](#ex01)\n",
    "- [ 5 - การเรียนรู้คำแนะนำภาพยนตร์](#5)\n",
    "- [ 6 - คำแนะนำ (Recommendations) ](#6)\n",
    "- [ 7 - ยินดีด้วย!](#7)\n",
    "\n",
    "\n"
   ]
  },
  {
   "cell_type": "markdown",
   "metadata": {},
   "source": [
    "##  แพ็คเกจ (Packages) <img align=\"left\" src=\"./images/film_strip_vertical.png\"     style=\" width:40px;   \" >\n",
    "เราจะใช้ NumPy และ TensorFlow ซึ่งเป็นแพ็คเกจที่คุ้นเคยกันดี"
   ]
  },
  {
   "cell_type": "code",
   "execution_count": null,
   "metadata": {},
   "outputs": [],
   "source": [
    "from google.colab import output\n",
    "output.enable_custom_widget_manager()\n",
    "try:\n",
    "  %matplotlib widget\n",
    "  print(\"widget is already installed\")\n",
    "except:\n",
    "  print(\"widget is not been installed, install now..\")\n",
    "  !pip install ipympl"
   ]
  },
  {
   "cell_type": "code",
   "execution_count": null,
   "metadata": {},
   "outputs": [],
   "source": [
    "!git clone https://github.com/Smith-WeStrideTH/Unsupervised_Learning_Course.git\n",
    "%cd Unsupervised_Learning_Course/work "
   ]
  },
  {
   "cell_type": "code",
   "execution_count": null,
   "metadata": {
    "deletable": false,
    "editable": false
   },
   "outputs": [],
   "source": [
    "import numpy as np\n",
    "import tensorflow as tf\n",
    "from tensorflow import keras\n",
    "from recsys_utils import *"
   ]
  },
  {
   "cell_type": "markdown",
   "metadata": {},
   "source": [
    "<a name=\"1\"></a>\n",
    "## 1 - สัญลักษณ์\n"
   ]
  },
  {
   "cell_type": "markdown",
   "metadata": {},
   "source": [
    "|General <br />  Notation  | Description| Python (if any) |\n",
    "|:-------------|:------------------------------------------------------------||\n",
    "| $r(i,j)$     | scalar; = 1  if user j rated movie i  = 0  otherwise             ||\n",
    "| $y(i,j)$     | scalar; = rating given by user j on movie  i    (if r(i,j) = 1 is defined) ||\n",
    "|$\\mathbf{w}^{(j)}$ | vector; parameters for user j ||\n",
    "|$b^{(j)}$     |  scalar; parameter for user j ||\n",
    "| $\\mathbf{x}^{(i)}$ |   vector; feature ratings for movie i        ||     \n",
    "| $n_u$        | number of users |num_users|\n",
    "| $n_m$        | number of movies | num_movies |\n",
    "| $n$          | number of features | num_features                    |\n",
    "| $\\mathbf{X}$ |  matrix of vectors $\\mathbf{x}^{(i)}$         | X |\n",
    "| $\\mathbf{W}$ |  matrix of vectors $\\mathbf{w}^{(j)}$         | W |\n",
    "| $\\mathbf{b}$ |  vector of bias parameters $b^{(j)}$ | b |\n",
    "| $\\mathbf{R}$ | matrix of elements $r(i,j)$                    | R |\n",
    "\n"
   ]
  },
  {
   "cell_type": "markdown",
   "metadata": {
    "tags": []
   },
   "source": [
    "<a name=\"2\"></a>\n",
    "## 2 - ระบบแนะนำ <img align=\"left\" src=\"./images/film_rating.png\" style=\" width:40px;  \" >\n",
    "ในห้องปฏิบัติการนี้ คุณจะได้เรียนรู้การนำไปใช้ของอัลกอริทึมการกรองแบบร่วมมือ และนำไปใช้กับชุดข้อมูลการให้คะแนนภาพยนตร์\n",
    "\n",
    "เป้าหมายของระบบการแนะนำแบบกรองความร่วมมือคือการสร้างเวกเตอร์สองตัว: สำหรับผู้ใช้แต่ละคน เวกเตอร์พารามิเตอร์ที่สะท้อนถึงรสนิยมภาพยนตร์ของผู้ใช้ สำหรับแต่ละภาพยนตร์ เวกเตอร์ฟีเจอร์ที่มีขนาดเท่ากันซึ่งสะท้อนถึงคำอธิบายบางอย่างของภาพยนตร์ ผลคูณดอทของสองเวกเตอร์บวกกับเทอมอคติควรสร้างค่าประมาณของคะแนนที่ผู้ใช้อาจให้กับภาพยนตร์นั้น\n",
    "\n",
    "แผนภาพด้านล่างแสดงรายละเอียดวิธีการเรียนรู้เวกเตอร์เหล่านี้"
   ]
  },
  {
   "cell_type": "markdown",
   "metadata": {},
   "source": [
    "<figure>\n",
    "   <img src=\"./images/ColabFilterLearn.PNG\"  style=\"width:740px;height:250px;\" >\n",
    "</figure>"
   ]
  },
  {
   "cell_type": "markdown",
   "metadata": {},
   "source": [
    "เรามีข้อมูลการให้คะแนนในรูปแบบเมทริกซ์ดังแสดง $Y$ ประกอบด้วยคะแนนตั้งแต่ 0.5 ถึง 5 โดยเพิ่มทีละ 0.5 คะแนน และ 0 หากภาพยนตร์ยังไม่ได้รับการให้คะแนน  $R$  มีค่า 1 เมื่อภาพยนตร์ได้รับการให้คะแนน ภาพยนตร์อยู่ในแถว ผู้ใช้ในคอลัมน์ แต่ละผู้ใช้มีเวกเตอร์พารามิเตอร์  $w^{user}$ และไบแอส แต่ละภาพยนตร์มีเวกเตอร์ฟีเจอร์  $x^{movie}$เวกเตอร์เหล่านี้ถูกเรียนรู้พร้อมกันโดยใช้การให้คะแนนผู้ใช้/ภาพยนตร์ที่มีอยู่เป็นข้อมูลการฝึก ตัวอย่างการฝึกหนึ่งแสดงไว้ด้านบน:  $\\mathbf{w}^{(1)} \\cdot \\mathbf{x}^{(1)} + b^{(1)} = 4$ ควรสังเกตว่าเวกเตอร์ฟีเจอร์ $x^{movie}$ ต้องตอบสนองผู้ใช้ทั้งหมด ในขณะที่เวกเตอร์ผู้ใช้  $w^{user}$ ต้องตอบสนองภาพยนตร์ทั้งหมด นี่คือที่มาของชื่อวิธีการนี้ - ผู้ใช้ทุกคนร่วมมือกันสร้างชุดการให้คะแนน\""
   ]
  },
  {
   "cell_type": "markdown",
   "metadata": {},
   "source": [
    "<figure>\n",
    "   <img src=\"./images/ColabFilterUse.PNG\"  style=\"width:640px;height:250px;\" >\n",
    "</figure>"
   ]
  },
  {
   "cell_type": "markdown",
   "metadata": {},
   "source": [
    "เมื่อเรียนรู้เวกเตอร์คุณลักษณะและพารามิเตอร์แล้ว สามารถนำไปใช้ในการทำนายคะแนนที่ผู้ใช้คนหนึ่งอาจให้กับภาพยนตร์ที่ยังไม่ได้ให้คะแนนได้ ดังแสดงในแผนภาพด้านบน สมการเป็นตัวอย่างของการทำนายคะแนนสำหรับผู้ใช้ที่หนึ่งสำหรับภาพยนตร์ที่ศูนย์"
   ]
  },
  {
   "cell_type": "markdown",
   "metadata": {},
   "source": [
    "\n",
    "ในแบบฝึกหัดนี้ คุณจะได้ฝึกใชฟังก์ชัน `cofiCostFunc` ที่คำนวณฟังก์ชันวัตถุประสงค์ของการกรองร่วมกัน หลังจากนำฟังก์ชันวัตถุประสงค์ไปใช้แล้ว คุณจะใช้ลูปการฝึกอบรมแบบกำหนดเองของ TensorFlow เพื่อเรียนรู้พารามิเตอร์สำหรับการกรองร่วมกัน ขั้นตอนแรกคือการรายละเอียดชุดข้อมูลและโครงสร้างข้อมูลที่จะใช้ในห้องปฏิบัติการ"
   ]
  },
  {
   "cell_type": "markdown",
   "metadata": {
    "id": "6-09Hto6odYD"
   },
   "source": [
    "<a name=\"3\"></a>\n",
    "## 3 - ชุดข้อมูลการให้คะแนนภาพยนตร์ <img align=\"left\" src=\"./images/film_rating.png\"     style=\" width:40px;  \" >\n",
    "ชุดข้อมูลนี้มาจาก [MovieLens \"ml-latest-small\"](https://grouplens.org/datasets/movielens/latest/).   \n",
    "[F. Maxwell Harper and Joseph A. Konstan. 2015. The MovieLens Datasets: History and Context. ACM Transactions on Interactive Intelligent Systems (TiiS) 5, 4: 19:1–19:19. <https://doi.org/10.1145/2827872>]\n",
    "\n",
    "ชุดข้อมูลเดิมมีภาพยนตร์ 9,000 เรื่องที่ได้รับการจัดอันดับโดยผู้ใช้ 600 คน ชุดข้อมูลได้ถูกปรับขนาดให้เน้นภาพยนตร์ตั้งแต่ปี 2000 เป็นต้นไป ชุดข้อมูลที่ลดขนาดแล้วมี $n_u = 443$ ผู้ใช้ และ $n_m= 4778$ ภาพยนตร์ \n",
    "\n",
    "ด้านล่าง คุณจะโหลดชุดข้อมูลภาพยนตร์ลงในตัวแปร  $Y$ และ  $R$.\n",
    "\n",
    "เมทริกซ์  $Y$ (a  $n_m \\times n_u$ เมทริกซ์) เก็บคะแนน  $y^{(i,j)}$. เมทริกซ์ $R$ เป็นเมทริกซ์ตัวบ่งชี้ค่าไบนารี โดยที่  $R(i,j) = 1$ ถ้าผู้ใช้ $j$ ให้คะแนนกับภาพยนตร์ $i$, และ   $R(i,j)=0$ มิฉะนั้น\n",
    "\n",
    "ตลอดส่วนนี้ของแบบฝึกหัด คุณจะได้ทำงานกับเมทริกซ์, $\\mathbf{X}$, $\\mathbf{W}$ และ  $\\mathbf{b}$ ด้วย: \n",
    "\n",
    "$$\\mathbf{X} = \n",
    "\\begin{bmatrix}\n",
    "--- (\\mathbf{x}^{(0)})^T --- \\\\\n",
    "--- (\\mathbf{x}^{(1)})^T --- \\\\\n",
    "\\vdots \\\\\n",
    "--- (\\mathbf{x}^{(n_m-1)})^T --- \\\\\n",
    "\\end{bmatrix} , \\quad\n",
    "\\mathbf{W} = \n",
    "\\begin{bmatrix}\n",
    "--- (\\mathbf{w}^{(0)})^T --- \\\\\n",
    "--- (\\mathbf{w}^{(1)})^T --- \\\\\n",
    "\\vdots \\\\\n",
    "--- (\\mathbf{w}^{(n_u-1)})^T --- \\\\\n",
    "\\end{bmatrix},\\quad\n",
    "\\mathbf{ b} = \n",
    "\\begin{bmatrix}\n",
    " b^{(0)}  \\\\\n",
    " b^{(1)} \\\\\n",
    "\\vdots \\\\\n",
    "b^{(n_u-1)} \\\\\n",
    "\\end{bmatrix}\\quad\n",
    "$$ \n",
    "\n",
    "แถวที่  $i$-th ของ  $\\mathbf{X}$ สอดคล้องกับเวกเตอร์ฟีเจอร์ $x^{(i)}$ สำหรับภาพยนตร์ที่ $i$-th และแถวที่  $j$-th ของ\n",
    "$\\mathbf{W}$ สอดคล้องกับเวกเตอร์พารามิเตอร์หนึ่งตัว $\\mathbf{w}^{(j)}$, สำหรับผู้ใช้ที่ \n",
    "$j$-th ทั้ง $x^{(i)}$ และ  $\\mathbf{w}^{(j)}$ เป็นเวกเตอร์ $n$-มิติ \n",
    "สำหรับวัตถุประสงค์ของแบบฝึกหัดนี้ คุณจะใช้ $n=10$, และดังนั้น $\\mathbf{x}^{(i)}$ และ $\\mathbf{w}^{(j)}$ มี 10 องค์ประกอบ.\n",
    "และดังนั้น, $\\mathbf{X}$ คือเมทริกซ์\n",
    "$n_m \\times 10$ เมทริกซ์ และ $\\mathbf{W}$ คือเมทริกซ์ $n_u \\times 10$.\n",
    "\n",
    "เราจะเริ่มต้นด้วยการโหลดชุดข้อมูลการให้คะแนนภาพยนตร์เพื่อทำความเข้าใจโครงสร้างของข้อมูล \n",
    "เราจะโหลด $Y$ และ  $R$ ด้วยชุดข้อมูลภาพยนตร์ \n",
    "เราจะโหลด $\\mathbf{X}$, $\\mathbf{W}$, และ  $\\mathbf{b}$  ด้วยค่าที่คำนวณไว้ล่วงหน้า ค่าเหล่านี้จะถูกเรียนรู้ในภายหลังในห้องปฏิบัติการ แต่เราจะใช้ค่าที่คำนวณไว้ล่วงหน้าเพื่อพัฒนาโมเดลต้นทุน"
   ]
  },
  {
   "cell_type": "code",
   "execution_count": null,
   "metadata": {
    "deletable": false,
    "editable": false
   },
   "outputs": [],
   "source": [
    "#Load data\n",
    "X, W, b, num_movies, num_features, num_users = load_precalc_params_small()\n",
    "Y, R = load_ratings_small()\n",
    "\n",
    "print(\"Y\", Y.shape, \"R\", R.shape)\n",
    "print(\"X\", X.shape)\n",
    "print(\"W\", W.shape)\n",
    "print(\"b\", b.shape)\n",
    "print(\"num_features\", num_features)\n",
    "print(\"num_movies\",   num_movies)\n",
    "print(\"num_users\",    num_users)"
   ]
  },
  {
   "cell_type": "code",
   "execution_count": null,
   "metadata": {
    "deletable": false,
    "editable": false,
    "id": "bxm1O_wbodYF"
   },
   "outputs": [],
   "source": [
    "#  From the matrix, we can compute statistics like average rating.\n",
    "tsmean =  np.mean(Y[0, R[0, :].astype(bool)])\n",
    "print(f\"Average rating for movie 1 : {tsmean:0.3f} / 5\" )"
   ]
  },
  {
   "cell_type": "markdown",
   "metadata": {},
   "source": [
    "<a name=\"4\"></a>\n",
    "## 4 - อัลกอริทึมการเรียนรู้แบบ Collaborative Filtering <img align=\"left\" src=\"./images/film_filter.png\"     style=\" width:40px;  \" >\n",
    "\n",
    "ตอนนี้คุณจะเริ่มต้นการนำไปใช้ของอัลกอริทึมการเรียนรู้แบบ Collaborative Filtering คุณจะเริ่มต้นด้วยการนำฟังก์ชันวัตถุประสงค์มาใช้\n",
    "\n",
    "อัลกอริทึมการกรองแบบร่วมมือกันในการตั้งค่าของคำแนะนำภาพยนตร์พิจารณาชุดของเวกเตอร์พารามิเตอร์ $n$-มิติ\n",
    "$\\mathbf{x}^{(0)},...,\\mathbf{x}^{(n_m-1)}$, $\\mathbf{w}^{(0)},...,\\mathbf{w}^{(n_u-1)}$ and $b^{(0)},...,b^{(n_u-1)}$, where the\n",
    "โดยที่โมเดลทำนายการให้คะแนนสำหรับภาพยนตร์  $i$ โดยผู้ใช้ r $j$ เป็น\n",
    "$y^{(i,j)} = \\mathbf{w}^{(j)}\\cdot \\mathbf{x}^{(i)} + b^{(j)}$ . เมื่อได้รับชุดข้อมูลที่ประกอบด้วย\n",
    "ชุดของการให้คะแนนที่สร้างโดยผู้ใช้บางคนในภาพยนตร์บางเรื่อง คุณต้องการเรียนรู้\n",
    "เวกเตอร์พารามิเตอร์  $\\mathbf{x}^{(0)},...,\\mathbf{x}^{(n_m-1)},\n",
    "\\mathbf{w}^{(0)},...,\\mathbf{w}^{(n_u-1)}$  and $b^{(0)},...,b^{(n_u-1)}$  ที่สร้างฟิตที่ดีที่สุด ลด\n",
    "ค่าความคลาดเคลื่อนกำลังสอง (minimizesthe squared error).\n",
    "\n",
    "คุณจะเติมโค้ดใน cofiCostFunc เพื่อคำนวณฟังก์ชันต้นทุนสำหรับการกรองแบบร่วมมือกัน"
   ]
  },
  {
   "cell_type": "markdown",
   "metadata": {
    "id": "bcqg0LJWodYH"
   },
   "source": [
    "\n",
    "<a name=\"4.1\"></a>\n",
    "### 4.1 ฟังก์ชันต้นทุนของ Collaborative Filtering\n",
    "\n",
    "ฟังก์ชันต้นทุนการกรองแบบร่วมมือกันกำหนดโดย\n",
    "$$J({\\mathbf{x}^{(0)},...,\\mathbf{x}^{(n_m-1)},\\mathbf{w}^{(0)},b^{(0)},...,\\mathbf{w}^{(n_u-1)},b^{(n_u-1)}})= \\left[ \\frac{1}{2}\\sum_{(i,j):r(i,j)=1}(\\mathbf{w}^{(j)} \\cdot \\mathbf{x}^{(i)} + b^{(j)} - y^{(i,j)})^2 \\right]\n",
    "+ \\underbrace{\\left[\n",
    "\\frac{\\lambda}{2}\n",
    "\\sum_{j=0}^{n_u-1}\\sum_{k=0}^{n-1}(\\mathbf{w}^{(j)}_k)^2\n",
    "+ \\frac{\\lambda}{2}\\sum_{i=0}^{n_m-1}\\sum_{k=0}^{n-1}(\\mathbf{x}_k^{(i)})^2\n",
    "\\right]}_{regularization}\n",
    "\\tag{1}$$\n",
    "ผลรวมแรกใน (1) คือ \"สำหรับทุก $i$, $j$ โดยที่  $r(i,j)$ เท่ากับ  $1$\" และสามารถเขียนได้ดังนี้:\n",
    "\n",
    "$$\n",
    "= \\left[ \\frac{1}{2}\\sum_{j=0}^{n_u-1} \\sum_{i=0}^{n_m-1}r(i,j)*(\\mathbf{w}^{(j)} \\cdot \\mathbf{x}^{(i)} + b^{(j)} - y^{(i,j)})^2 \\right]\n",
    "+\\text{regularization}\n",
    "$$\n",
    "\n",
    "ตอนนี้คุณควรเขียน cofiCostFunc (ฟังก์ชันต้นทุนการกรองแบบร่วมมือกัน) เพื่อส่งคืนต้นทุนนี้"
   ]
  },
  {
   "cell_type": "markdown",
   "metadata": {},
   "source": [
    "<a name=\"ex01\"></a>\n",
    "### แบบฝึกหัด 1\n",
    "\n",
    "**การใช้ Loop แบบ For:**   \n",
    "เริ่มต้นด้วยการนำฟังก์ชันต้นทุนไปใช้งานโดยใช้ลูป for\n",
    "พิจารณาพัฒนาฟังก์ชันต้นทุนในสองขั้นตอน ขั้นแรก พัฒนาฟังก์ชันต้นทุนโดยไม่ใช้การปรับเทียบ กรณีทดสอบที่ไม่รวมการปรับเทียบมีให้ด้านล่างเพื่อทดสอบการใช้งานของคุณ เมื่อใช้งานได้แล้ว ให้เพิ่มการปรับเทียบและเรียกใช้การทดสอบที่รวมการปรับเทียบ โปรดทราบว่าคุณควรสะสมต้นทุนสำหรับผู้ใช้ $j$ และภาพยนตร์ $i$ เฉพาะเมื่อ $R(i,j) = 1$."
   ]
  },
  {
   "cell_type": "code",
   "execution_count": null,
   "metadata": {
    "deletable": false
   },
   "outputs": [],
   "source": [
    "# GRADED FUNCTION: cofi_cost_func\n",
    "# UNQ_C1\n",
    "\n",
    "def cofi_cost_func(X, W, b, Y, R, lambda_):\n",
    "    \"\"\"\n",
    "    Returns the cost for the content-based filtering\n",
    "    Args:\n",
    "      X (ndarray (num_movies,num_features)): matrix of item features\n",
    "      W (ndarray (num_users,num_features)) : matrix of user parameters\n",
    "      b (ndarray (1, num_users)            : vector of user parameters\n",
    "      Y (ndarray (num_movies,num_users)    : matrix of user ratings of movies\n",
    "      R (ndarray (num_movies,num_users)    : matrix, where R(i, j) = 1 if the i-th movies was rated by the j-th user\n",
    "      lambda_ (float): regularization parameter\n",
    "    Returns:\n",
    "      J (float) : Cost\n",
    "    \"\"\"\n",
    "    nm, nu = Y.shape\n",
    "    J = 0\n",
    "    ### START CODE HERE ###  \n",
    "    \n",
    "        \n",
    "        \n",
    "        \n",
    "            \n",
    "            \n",
    "            \n",
    "            \n",
    "    \n",
    "    \n",
    "    ### END CODE HERE ### \n",
    "\n",
    "    return J"
   ]
  },
  {
   "cell_type": "markdown",
   "metadata": {},
   "source": [
    "<details>\n",
    "  <summary><font size=\"3\" color=\"darkgreen\"><b>Click for hints</b></font></summary>\n",
    "    คุณสามารถแบ่งโครงสร้างโค้ดเป็นสองฟังก์ชันวนซ้ำได้ คล้ายกับการหาผลรวมใน (1)\n",
    "    สร้างโค้ดโดยไม่ต้องมีการปรับค่า regularization ก่อน\n",
    "    โปรดสังเกตว่าบางองค์ประกอบใน (1) เป็นเวกเตอร์ ให้นำ np.dot() มาใช้ คุณยังสามารถใช้ np.square() ได้อีกด้วย\n",
    "    ใส่ใจเป็นพิเศษกับตัวแปรดัชนี โดยแยกแยะว่าองค์ประกอบใดถูกดัชนีด้วย i และองค์ประกอบใดถูกดัชนีด้วย j อย่าลืมหารด้วยสอง    \n",
    "\n",
    "```python     \n",
    "    ### START CODE HERE ###  \n",
    "    for j in range(nu):\n",
    "        \n",
    "        \n",
    "        for i in range(nm):\n",
    "            \n",
    "            \n",
    "    ### END CODE HERE ### \n",
    "```    \n",
    "<details>\n",
    "    <summary><font size=\"2\" color=\"darkblue\"><b> ดูคำแนะนำเพิ่มเติม</b></font></summary>\n",
    "        \n",
    "    นี่คือรายละเอียดเพิ่มเติม\n",
    "    โค้ดด้านล่างดึงแต่ละองค์ประกอบจากเมทริกซ์ก่อนนำไปใช้\n",
    "    นอกจากนี้ยังสามารถอ้างอิงเมทริกซ์โดยตรงได้อีกด้วย\n",
    "    โค้ดนี้ไม่มีการปรับค่า regularization\n",
    "    \n",
    "```python \n",
    "    nm,nu = Y.shape\n",
    "    J = 0\n",
    "    ### START CODE HERE ###  \n",
    "    for j in range(nu):\n",
    "        w = W[j,:]\n",
    "        b_j = b[0,j]\n",
    "        for i in range(nm):\n",
    "            x = \n",
    "            y = \n",
    "            r =\n",
    "            J += \n",
    "    J = J/2\n",
    "    ### END CODE HERE ### \n",
    "\n",
    "```\n",
    "    \n",
    "<details>\n",
    "    <summary><font size=\"2\" color=\"darkblue\"><b> ทางเลือกสุดท้าย (full non-regularized implementation)</b></font></summary>\n",
    "    \n",
    "```python \n",
    "    nm,nu = Y.shape\n",
    "    J = 0\n",
    "    ### START CODE HERE ###  \n",
    "    for j in range(nu):\n",
    "        w = W[j,:]\n",
    "        b_j = b[0,j]\n",
    "        for i in range(nm):\n",
    "            x = X[i,:]\n",
    "            y = Y[i,j]\n",
    "            r = R[i,j]\n",
    "            J += np.square(r * (np.dot(w,x) + b_j - y ) )\n",
    "    J = J/2\n",
    "    ### END CODE HERE ### \n",
    "```\n",
    "    \n",
    "<details>\n",
    "    <summary><font size=\"2\" color=\"darkblue\"><b>regularization</b></font></summary>\n",
    "     การปรับค่าพารามิเตอร์ (Regularization) จะทำการยกกำลังสองแต่ละองค์ประกอบของอาร์เรย์ W และ X จากนั้นนำผลลัพธ์ทั้งหมดมาบวกกัน\n",
    "    คุณสามารถใช้ np.square() และ np.sum() เพื่อคำนวณได้\n",
    "\n",
    "<details>\n",
    "    <summary><font size=\"2\" color=\"darkblue\"><b>รายละเอียด regularization </b></font></summary>\n",
    "    \n",
    "```python \n",
    "    J += (lambda_/2) * (np.sum(np.square(W)) + np.sum(np.square(X)))\n",
    "```\n",
    "    \n",
    "</details>\n",
    "</details>\n",
    "</details>\n",
    "</details>\n",
    "\n",
    "    \n"
   ]
  },
  {
   "cell_type": "code",
   "execution_count": null,
   "metadata": {
    "deletable": false,
    "editable": false
   },
   "outputs": [],
   "source": [
    "# Reduce the data set size so that this runs faster\n",
    "num_users_r = 4\n",
    "num_movies_r = 5 \n",
    "num_features_r = 3\n",
    "\n",
    "X_r = X[:num_movies_r, :num_features_r]\n",
    "W_r = W[:num_users_r,  :num_features_r]\n",
    "b_r = b[0, :num_users_r].reshape(1,-1)\n",
    "Y_r = Y[:num_movies_r, :num_users_r]\n",
    "R_r = R[:num_movies_r, :num_users_r]\n",
    "\n",
    "# Evaluate cost function\n",
    "J = cofi_cost_func(X_r, W_r, b_r, Y_r, R_r, 0);\n",
    "print(f\"Cost: {J:0.2f}\")"
   ]
  },
  {
   "cell_type": "markdown",
   "metadata": {
    "id": "xGznmQ91odYL"
   },
   "source": [
    "**ผลลัพธ์คาดหวัง (lambda = 0)**:  \n",
    "$13.67$."
   ]
  },
  {
   "cell_type": "code",
   "execution_count": null,
   "metadata": {
    "deletable": false,
    "editable": false
   },
   "outputs": [],
   "source": [
    "# Evaluate cost function with regularization \n",
    "J = cofi_cost_func(X_r, W_r, b_r, Y_r, R_r, 1.5);\n",
    "print(f\"Cost (with regularization): {J:0.2f}\")"
   ]
  },
  {
   "cell_type": "markdown",
   "metadata": {
    "id": "1xbepzUUodYP"
   },
   "source": [
    "**ผลลัพธ์คาดหวัง**:\n",
    "\n",
    "28.09"
   ]
  },
  {
   "cell_type": "code",
   "execution_count": null,
   "metadata": {
    "deletable": false,
    "editable": false
   },
   "outputs": [],
   "source": [
    "# Public tests\n",
    "from public_tests_r import *\n",
    "test_cofi_cost_func(cofi_cost_func)"
   ]
  },
  {
   "cell_type": "markdown",
   "metadata": {},
   "source": [
    "**การนำไปใช้แบบเวกเตอร์ (Vectorized Implementation)**\n",
    "\n",
    "เป็นสิ่งสำคัญในการสร้างการนำไปใช้แบบเวกเตอร์เพื่อคำนวณ $J$, เนื่องจากจะถูกเรียกใช้หลายครั้งในระหว่างการปรับให้เหมาะสม พีชคณิตเชิงเส้นที่ใช้ไม่ได้เป็นจุดสนใจหลักของชุดนี้ ดังนั้นจึงมีการให้การนำไปใช้ หากคุณเป็นผู้เชี่ยวชาญด้านพีชคณิตเชิงเส้น คุณสามารถสร้างเวอร์ชันของคุณเองโดยไม่ต้องอ้างอิงโค้ดด้านล่าง\n",
    "\n",
    "เรียกใช้โค้ดด้านล่างและตรวจสอบว่าให้ผลลัพธ์เหมือนกับเวอร์ชันที่ไม่ใช่เวกเตอร์"
   ]
  },
  {
   "cell_type": "code",
   "execution_count": null,
   "metadata": {
    "deletable": false,
    "editable": false
   },
   "outputs": [],
   "source": [
    "def cofi_cost_func_v(X, W, b, Y, R, lambda_):\n",
    "    \"\"\"\n",
    "    Returns the cost for the content-based filtering\n",
    "    Vectorized for speed. Uses tensorflow operations to be compatible with custom training loop.\n",
    "    Args:\n",
    "      X (ndarray (num_movies,num_features)): matrix of item features\n",
    "      W (ndarray (num_users,num_features)) : matrix of user parameters\n",
    "      b (ndarray (1, num_users)            : vector of user parameters\n",
    "      Y (ndarray (num_movies,num_users)    : matrix of user ratings of movies\n",
    "      R (ndarray (num_movies,num_users)    : matrix, where R(i, j) = 1 if the i-th movies was rated by the j-th user\n",
    "      lambda_ (float): regularization parameter\n",
    "    Returns:\n",
    "      J (float) : Cost\n",
    "    \"\"\"\n",
    "    j = (tf.linalg.matmul(X, tf.transpose(W)) + b - Y)*R\n",
    "    J = 0.5 * tf.reduce_sum(j**2) + (lambda_/2) * (tf.reduce_sum(X**2) + tf.reduce_sum(W**2))\n",
    "    return J"
   ]
  },
  {
   "cell_type": "code",
   "execution_count": null,
   "metadata": {
    "deletable": false,
    "editable": false
   },
   "outputs": [],
   "source": [
    "# Evaluate cost function\n",
    "J = cofi_cost_func_v(X_r, W_r, b_r, Y_r, R_r, 0);\n",
    "print(f\"Cost: {J:0.2f}\")\n",
    "\n",
    "# Evaluate cost function with regularization \n",
    "J = cofi_cost_func_v(X_r, W_r, b_r, Y_r, R_r, 1.5);\n",
    "print(f\"Cost (with regularization): {J:0.2f}\")"
   ]
  },
  {
   "cell_type": "markdown",
   "metadata": {
    "id": "1xbepzUUodYP"
   },
   "source": [
    "**ผลลัพธ์คาดหวัง**:  \n",
    "Cost: 13.67  \n",
    "Cost (with regularization): 28.09"
   ]
  },
  {
   "cell_type": "markdown",
   "metadata": {
    "id": "ilaeM8yWodYR"
   },
   "source": [
    "<a name=\"5\"></a>\n",
    "## 5 - การเรียนรู้คำแนะนำภาพยนตร์ <img align=\"left\" src=\"./images/film_man_action.png\" style=\" width:40px;  \" >\n",
    "------------------------------\n",
    "\n",
    "หลังจากที่คุณเสร็จสิ้นการนำฟังก์ชันต้นทุนการกรองแบบร่วมมือกันไปใช้งานแล้ว คุณสามารถเริ่มฝึกอัลกอริทึมของคุณเพื่อสร้างคำแนะนำภาพยนตร์สำหรับตัวคุณเองได้\n",
    "\n",
    "ในเซลล์ด้านล่าง คุณสามารถป้อนตัวเลือกภาพยนตร์ของคุณเอง อัลกอริทึมจะทำการแนะนำภาพยนตร์ให้กับคุณ! เราได้กรอกค่าบางค่าตามความชอบของเรา แต่หลังจากที่คุณใช้งานได้แล้ว คุณควรเปลี่ยนสิ่งนี้ให้ตรงกับรสนิยมของคุณ รายชื่อภาพยนตร์ทั้งหมดในชุดข้อมูลอยู่ในไฟล์[movie list](data/small_movie_list.csv)."
   ]
  },
  {
   "cell_type": "code",
   "execution_count": null,
   "metadata": {
    "deletable": false,
    "id": "WJO8Jr0UodYR"
   },
   "outputs": [],
   "source": [
    "movieList, movieList_df = load_Movie_List_pd()\n",
    "\n",
    "my_ratings = np.zeros(num_movies)          #  Initialize my ratings\n",
    "\n",
    "# Check the file small_movie_list.csv for id of each movie in our dataset\n",
    "# For example, Toy Story 3 (2010) has ID 2700, so to rate it \"5\", you can set\n",
    "my_ratings[2700] = 5 \n",
    "\n",
    "#Or suppose you did not enjoy Persuasion (2007), you can set\n",
    "my_ratings[2609] = 2;\n",
    "\n",
    "# We have selected a few movies we liked / did not like and the ratings we\n",
    "# gave are as follows:\n",
    "my_ratings[929]  = 5   # Lord of the Rings: The Return of the King, The\n",
    "my_ratings[246]  = 5   # Shrek (2001)\n",
    "my_ratings[2716] = 3   # Inception\n",
    "my_ratings[1150] = 5   # Incredibles, The (2004)\n",
    "my_ratings[382]  = 2   # Amelie (Fabuleux destin d'Amélie Poulain, Le)\n",
    "my_ratings[366]  = 5   # Harry Potter and the Sorcerer's Stone (a.k.a. Harry Potter and the Philosopher's Stone) (2001)\n",
    "my_ratings[622]  = 5   # Harry Potter and the Chamber of Secrets (2002)\n",
    "my_ratings[988]  = 3   # Eternal Sunshine of the Spotless Mind (2004)\n",
    "my_ratings[2925] = 1   # Louis Theroux: Law & Disorder (2008)\n",
    "my_ratings[2937] = 1   # Nothing to Declare (Rien à déclarer)\n",
    "my_ratings[793]  = 5   # Pirates of the Caribbean: The Curse of the Black Pearl (2003)\n",
    "my_rated = [i for i in range(len(my_ratings)) if my_ratings[i] > 0]\n",
    "\n",
    "print('\\nNew user ratings:\\n')\n",
    "for i in range(len(my_ratings)):\n",
    "    if my_ratings[i] > 0 :\n",
    "        print(f'Rated {my_ratings[i]} for  {movieList_df.loc[i,\"title\"]}');"
   ]
  },
  {
   "cell_type": "markdown",
   "metadata": {},
   "source": [
    "ตอนนี้ มาเพิ่มรีวิวเหล่านี้ลงใน $Y$ และ  $R$ และทำให้คะแนนเป็นมาตรฐานกันเถอะ"
   ]
  },
  {
   "cell_type": "code",
   "execution_count": null,
   "metadata": {
    "deletable": false,
    "editable": false
   },
   "outputs": [],
   "source": [
    "# Reload ratings\n",
    "Y, R = load_ratings_small()\n",
    "\n",
    "# Add new user ratings to Y \n",
    "Y = np.c_[my_ratings, Y]\n",
    "\n",
    "# Add new user indicator matrix to R\n",
    "R = np.c_[(my_ratings != 0).astype(int), R]\n",
    "\n",
    "# Normalize the Dataset\n",
    "Ynorm, Ymean = normalizeRatings(Y, R)"
   ]
  },
  {
   "cell_type": "markdown",
   "metadata": {},
   "source": [
    "มาเตรียมการฝึกโมเดลกัน โดยเริ่มจากการเริ่มต้นพารามิเตอร์และเลือกออปติไมเซอร์ Adam"
   ]
  },
  {
   "cell_type": "code",
   "execution_count": null,
   "metadata": {
    "deletable": false,
    "editable": false,
    "tags": []
   },
   "outputs": [],
   "source": [
    "#  Useful Values\n",
    "num_movies, num_users = Y.shape\n",
    "num_features = 100\n",
    "\n",
    "# Set Initial Parameters (W, X), use tf.Variable to track these variables\n",
    "tf.random.set_seed(1234) # for consistent results\n",
    "W = tf.Variable(tf.random.normal((num_users,  num_features),dtype=tf.float64),  name='W')\n",
    "X = tf.Variable(tf.random.normal((num_movies, num_features),dtype=tf.float64),  name='X')\n",
    "b = tf.Variable(tf.random.normal((1,          num_users),   dtype=tf.float64),  name='b')\n",
    "\n",
    "# Instantiate an optimizer.\n",
    "optimizer = keras.optimizers.Adam(learning_rate=1e-1)"
   ]
  },
  {
   "cell_type": "markdown",
   "metadata": {},
   "source": [
    "ตอนนี้เรามาฝึกโมเดลการกรองแบบร่วมมือกัน (collaborative filtering) กัน พารามิเตอร์ที่เราจะเรียนรู้คือ $\\mathbf{X}$, $\\mathbf{W}$, และ  $\\mathbf{b}$. "
   ]
  },
  {
   "cell_type": "markdown",
   "metadata": {},
   "source": [
    "การดำเนินการที่เกี่ยวข้องกับการเรียนรู้ $w$, $b$, และ  $x$  พร้อมกันไม่ได้อยู่ใน 'เลเยอร์' แบบทั่วไปที่เสนอในแพ็คเกจเครือข่ายประสาทเทียมของ TensorFlow ดังนั้น โฟลว์ที่ใช้ใน Course 2: Model(), Compile(), Fit(), Predict() จึงไม่สามารถนำไปใช้ได้โดยตรง แต่เราสามารถใช้ลูปการฝึกอบรมแบบกำหนดเองได้\n",
    "\n",
    "นึกย้อนกลับไปถึงขั้นตอนของการไล่ระดับ (gradient descent)จากแล็บก่อนหน้านี้:\n",
    "- ทำซ้ำจนกว่าจะ converge:\n",
    "    - คำนวณการส่งต่อไปข้างหน้า (forward)\n",
    "    - คำนวณอนุพันธ์ (derivative) ของการสูญเสียเทียบกับพารามิเตอร์\n",
    "    - อัปเดตพารามิเตอร์โดยใช้อัตราการเรียนรู้และอนุพันธ์ที่คำนวณได้\n",
    "\n",
    "    \n",
    "TensorFlow มีความสามารถที่ยอดเยี่ยมในการคำนวณอนุพันธ์ให้คุณ ซึ่งแสดงไว้ด้านล่าง ภายในส่วน  `tf.GradientTape()` TensorFlow มีความสามารถที่ยอดเยี่ยมในการคำนวณอนุพันธ์ให้คุณ ซึ่งแสดงไว้ด้านล่าง ภายในส่วน `tape.gradient()` ภายหลัง จะส่งคืนการไล่ระดับสีของการสูญเสียเทียบกับตัวแปรที่ติดตาม การไล่ระดับสีสามารถนำไปใช้กับพารามิเตอร์โดยใช้ออปติไมเซอร์\n",
    "\n",
    "นี่คือการแนะนำสั้น ๆ เกี่ยวกับคุณสมบัติที่มีประโยชน์ของ TensorFlow และเฟรมเวิร์กการเรียนรู้ของเครื่องอื่นๆ สามารถค้นหาข้อมูลเพิ่มเติมได้โดยการสืบค้น \"ลูปการฝึกอบรมแบบกำหนดเอง\" ภายในเฟรมเวิร์กที่สนใจ\n",
    "    \n"
   ]
  },
  {
   "cell_type": "code",
   "execution_count": null,
   "metadata": {
    "deletable": false,
    "editable": false
   },
   "outputs": [],
   "source": [
    "iterations = 200\n",
    "lambda_ = 1\n",
    "for iter in range(iterations):\n",
    "    # Use TensorFlow’s GradientTape\n",
    "    # to record the operations used to compute the cost \n",
    "    with tf.GradientTape() as tape:\n",
    "\n",
    "        # Compute the cost (forward pass included in cost)\n",
    "        cost_value = cofi_cost_func_v(X, W, b, Ynorm, R, lambda_)\n",
    "\n",
    "    # Use the gradient tape to automatically retrieve\n",
    "    # the gradients of the trainable variables with respect to the loss\n",
    "    grads = tape.gradient( cost_value, [X,W,b] )\n",
    "\n",
    "    # Run one step of gradient descent by updating\n",
    "    # the value of the variables to minimize the loss.\n",
    "    optimizer.apply_gradients( zip(grads, [X,W,b]) )\n",
    "\n",
    "    # Log periodically.\n",
    "    if iter % 20 == 0:\n",
    "        print(f\"Training loss at iteration {iter}: {cost_value:0.1f}\")"
   ]
  },
  {
   "cell_type": "markdown",
   "metadata": {
    "id": "SSzUL7eQodYS"
   },
   "source": [
    "<a name=\"6\"></a>\n",
    "## 6 - คำแนะนำ (Recommendations)\n",
    "ด้านล่าง เราคำนวณเรตติ้งสำหรับภาพยนตร์และผู้ใช้ทั้งหมด และแสดงภาพยนตร์ที่แนะนำ เรตติ้งเหล่านี้ยึดตามภาพยนตร์และเรตติ้งที่ป้อนเป็น `my_ratings[]` ข้างต้น เพื่อทำนายเรตติ้งของภาพยนตร์ $i$ สำหรับผู้ใช้  $j$, คุณคำนวณ $\\mathbf{w}^{(j)} \\cdot \\mathbf{x}^{(i)} + b^{(j)}$. ซึ่งสามารถคำนวณได้สำหรับทุกเรตติ้งโดยใช้การคูณเมทริกซ์"
   ]
  },
  {
   "cell_type": "code",
   "execution_count": null,
   "metadata": {
    "deletable": false,
    "editable": false,
    "id": "ns266wKtodYT"
   },
   "outputs": [],
   "source": [
    "# Make a prediction using trained weights and biases\n",
    "p = np.matmul(X.numpy(), np.transpose(W.numpy())) + b.numpy()\n",
    "\n",
    "#restore the mean\n",
    "pm = p + Ymean\n",
    "\n",
    "my_predictions = pm[:,0]\n",
    "\n",
    "# sort predictions\n",
    "ix = tf.argsort(my_predictions, direction='DESCENDING')\n",
    "\n",
    "for i in range(17):\n",
    "    j = ix[i]\n",
    "    if j not in my_rated:\n",
    "        print(f'Predicting rating {my_predictions[j]:0.2f} for movie {movieList[j]}')\n",
    "\n",
    "print('\\n\\nOriginal vs Predicted ratings:\\n')\n",
    "for i in range(len(my_ratings)):\n",
    "    if my_ratings[i] > 0:\n",
    "        print(f'Original {my_ratings[i]}, Predicted {my_predictions[i]:0.2f} for {movieList[i]}')"
   ]
  },
  {
   "cell_type": "markdown",
   "metadata": {},
   "source": [
    "ในทางปฏิบัติ ข้อมูลเพิ่มเติมสามารถนำมาใช้เพื่อปรับปรุงการคาดการณ์ของเราได้ จากตัวอย่างข้างต้น คะแนนที่คาดการณ์สำหรับภาพยนตร์ไม่กี่ร้อยเรื่องแรกอยู่ในช่วงที่แคบ เราสามารถปรับปรุงข้อมูลข้างต้นได้โดยการเลือกจากภาพยนตร์ยอดนิยมเหล่านั้น ซึ่งเป็นภาพยนตร์ที่มีคะแนนเฉลี่ยสูงและมีผู้ให้คะแนนมากกว่า 20 คน ส่วนนี้ใช้ดาต้าเฟรมของ[Pandas](https://pandas.pydata.org/) ซึ่งมีฟีเจอร์การจัดเรียงข้อมูลที่สะดวกมากมาย"
   ]
  },
  {
   "cell_type": "code",
   "execution_count": null,
   "metadata": {
    "deletable": false,
    "editable": false
   },
   "outputs": [],
   "source": [
    "filter=(movieList_df[\"number of ratings\"] > 20)\n",
    "movieList_df[\"pred\"] = my_predictions\n",
    "movieList_df = movieList_df.reindex(columns=[\"pred\", \"mean rating\", \"number of ratings\", \"title\"])\n",
    "movieList_df.loc[ix[:300]].loc[filter].sort_values(\"mean rating\", ascending=False)"
   ]
  },
  {
   "cell_type": "markdown",
   "metadata": {},
   "source": [
    "<a name=\"7\"></a>\n",
    "## 7 - ยินดีด้วย! <img align=\"left\" src=\"./images/film_award.png\"     style=\" width:40px;  \" >\n",
    "คุณได้สร้างระบบแนะนำสินค้าที่มีประโยชน์แล้ว!"
   ]
  }
 ],
 "metadata": {
  "kernelspec": {
   "display_name": "Python 3",
   "language": "python",
   "name": "python3"
  },
  "language_info": {
   "codemirror_mode": {
    "name": "ipython",
    "version": 3
   },
   "file_extension": ".py",
   "mimetype": "text/x-python",
   "name": "python",
   "nbconvert_exporter": "python",
   "pygments_lexer": "ipython3",
   "version": "3.7.6"
  }
 },
 "nbformat": 4,
 "nbformat_minor": 4
}
